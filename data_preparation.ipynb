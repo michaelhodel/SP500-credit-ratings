{
 "cells": [
  {
   "cell_type": "markdown",
   "metadata": {},
   "source": [
    "# 1 Imports and Setup"
   ]
  },
  {
   "cell_type": "code",
   "execution_count": 1,
   "metadata": {},
   "outputs": [
    {
     "name": "stdout",
     "output_type": "stream",
     "text": [
      "Python version: 3.6.10\n",
      "Numpy version: 1.18.1\n",
      "Pamdas version: 1.0.3\n"
     ]
    }
   ],
   "source": [
    "import numpy as np\n",
    "import pandas as pd\n",
    "import seaborn as sns\n",
    "import matplotlib.pyplot as plt\n",
    "from collections import Counter\n",
    "from pandas.api.types import CategoricalDtype\n",
    "from sklearn.model_selection import train_test_split\n",
    "\n",
    "# forcing cells to output everything\n",
    "from IPython.core.interactiveshell import InteractiveShell\n",
    "InteractiveShell.ast_node_interactivity = 'all'\n",
    "\n",
    "# applying desired style for plots\n",
    "plt.style.use('seaborn-whitegrid')\n",
    "\n",
    "# printing the versions of python, numpy and pandas\n",
    "from platform import python_version\n",
    "print('Python version: ' + python_version())\n",
    "print('Numpy version: ' + np.__version__)\n",
    "print('Pamdas version: ' + pd.__version__)"
   ]
  },
  {
   "cell_type": "markdown",
   "metadata": {},
   "source": [
    "# 2 Loading Data"
   ]
  },
  {
   "cell_type": "markdown",
   "metadata": {},
   "source": [
    "## 2.1 CRSP Monthly Stock"
   ]
  },
  {
   "cell_type": "code",
   "execution_count": 2,
   "metadata": {},
   "outputs": [
    {
     "name": "stdout",
     "output_type": "stream",
     "text": [
      "The data frame CRSP_monthly_stock consists of 594954 rows and 22 columns.\n",
      "The data frame CRSP_monthly_stock contains about 13.89% null values.\n"
     ]
    },
    {
     "data": {
      "text/html": [
       "<div>\n",
       "<style scoped>\n",
       "    .dataframe tbody tr th:only-of-type {\n",
       "        vertical-align: middle;\n",
       "    }\n",
       "\n",
       "    .dataframe tbody tr th {\n",
       "        vertical-align: top;\n",
       "    }\n",
       "\n",
       "    .dataframe thead th {\n",
       "        text-align: right;\n",
       "    }\n",
       "</style>\n",
       "<table border=\"1\" class=\"dataframe\">\n",
       "  <thead>\n",
       "    <tr style=\"text-align: right;\">\n",
       "      <th></th>\n",
       "      <th>PERMNO</th>\n",
       "      <th>date</th>\n",
       "      <th>SHRCD</th>\n",
       "      <th>EXCHCD</th>\n",
       "      <th>SICCD</th>\n",
       "      <th>PRIMEXCH</th>\n",
       "      <th>TRDSTAT</th>\n",
       "      <th>PERMCO</th>\n",
       "      <th>HEXCD</th>\n",
       "      <th>HSICCD</th>\n",
       "      <th>...</th>\n",
       "      <th>HSICIG</th>\n",
       "      <th>BIDLO</th>\n",
       "      <th>ASKHI</th>\n",
       "      <th>PRC</th>\n",
       "      <th>VOL</th>\n",
       "      <th>SHROUT</th>\n",
       "      <th>CFACPR</th>\n",
       "      <th>CFACSHR</th>\n",
       "      <th>SPREAD</th>\n",
       "      <th>sprtrn</th>\n",
       "    </tr>\n",
       "  </thead>\n",
       "  <tbody>\n",
       "    <tr>\n",
       "      <th>0</th>\n",
       "      <td>10001</td>\n",
       "      <td>2010-01-29</td>\n",
       "      <td>11.0</td>\n",
       "      <td>2.0</td>\n",
       "      <td>4925</td>\n",
       "      <td>A</td>\n",
       "      <td>A</td>\n",
       "      <td>7953</td>\n",
       "      <td>2</td>\n",
       "      <td>4925</td>\n",
       "      <td>...</td>\n",
       "      <td>NaN</td>\n",
       "      <td>9.86</td>\n",
       "      <td>10.5000</td>\n",
       "      <td>10.0600</td>\n",
       "      <td>3104.0</td>\n",
       "      <td>4361.0</td>\n",
       "      <td>1.0</td>\n",
       "      <td>1.0</td>\n",
       "      <td>NaN</td>\n",
       "      <td>-0.036974</td>\n",
       "    </tr>\n",
       "    <tr>\n",
       "      <th>1</th>\n",
       "      <td>10001</td>\n",
       "      <td>2010-02-26</td>\n",
       "      <td>11.0</td>\n",
       "      <td>2.0</td>\n",
       "      <td>4925</td>\n",
       "      <td>A</td>\n",
       "      <td>A</td>\n",
       "      <td>7953</td>\n",
       "      <td>2</td>\n",
       "      <td>4925</td>\n",
       "      <td>...</td>\n",
       "      <td>NaN</td>\n",
       "      <td>9.92</td>\n",
       "      <td>10.2201</td>\n",
       "      <td>10.0084</td>\n",
       "      <td>1510.0</td>\n",
       "      <td>4361.0</td>\n",
       "      <td>1.0</td>\n",
       "      <td>1.0</td>\n",
       "      <td>NaN</td>\n",
       "      <td>0.028514</td>\n",
       "    </tr>\n",
       "    <tr>\n",
       "      <th>2</th>\n",
       "      <td>10001</td>\n",
       "      <td>2010-03-31</td>\n",
       "      <td>11.0</td>\n",
       "      <td>2.0</td>\n",
       "      <td>4925</td>\n",
       "      <td>A</td>\n",
       "      <td>A</td>\n",
       "      <td>7953</td>\n",
       "      <td>2</td>\n",
       "      <td>4925</td>\n",
       "      <td>...</td>\n",
       "      <td>NaN</td>\n",
       "      <td>9.91</td>\n",
       "      <td>10.1800</td>\n",
       "      <td>10.1700</td>\n",
       "      <td>2283.0</td>\n",
       "      <td>4361.0</td>\n",
       "      <td>1.0</td>\n",
       "      <td>1.0</td>\n",
       "      <td>NaN</td>\n",
       "      <td>0.058796</td>\n",
       "    </tr>\n",
       "    <tr>\n",
       "      <th>3</th>\n",
       "      <td>10001</td>\n",
       "      <td>2010-04-30</td>\n",
       "      <td>11.0</td>\n",
       "      <td>2.0</td>\n",
       "      <td>4925</td>\n",
       "      <td>A</td>\n",
       "      <td>A</td>\n",
       "      <td>7953</td>\n",
       "      <td>2</td>\n",
       "      <td>4925</td>\n",
       "      <td>...</td>\n",
       "      <td>NaN</td>\n",
       "      <td>10.25</td>\n",
       "      <td>11.6100</td>\n",
       "      <td>11.3900</td>\n",
       "      <td>3350.0</td>\n",
       "      <td>6070.0</td>\n",
       "      <td>1.0</td>\n",
       "      <td>1.0</td>\n",
       "      <td>NaN</td>\n",
       "      <td>0.014759</td>\n",
       "    </tr>\n",
       "    <tr>\n",
       "      <th>4</th>\n",
       "      <td>10001</td>\n",
       "      <td>2010-05-28</td>\n",
       "      <td>11.0</td>\n",
       "      <td>2.0</td>\n",
       "      <td>4925</td>\n",
       "      <td>A</td>\n",
       "      <td>A</td>\n",
       "      <td>7953</td>\n",
       "      <td>2</td>\n",
       "      <td>4925</td>\n",
       "      <td>...</td>\n",
       "      <td>NaN</td>\n",
       "      <td>10.39</td>\n",
       "      <td>11.8000</td>\n",
       "      <td>11.4000</td>\n",
       "      <td>3451.0</td>\n",
       "      <td>6071.0</td>\n",
       "      <td>1.0</td>\n",
       "      <td>1.0</td>\n",
       "      <td>NaN</td>\n",
       "      <td>-0.081976</td>\n",
       "    </tr>\n",
       "  </tbody>\n",
       "</table>\n",
       "<p>5 rows × 22 columns</p>\n",
       "</div>"
      ],
      "text/plain": [
       "   PERMNO       date  SHRCD  EXCHCD SICCD PRIMEXCH TRDSTAT  PERMCO  HEXCD  \\\n",
       "0   10001 2010-01-29   11.0     2.0  4925        A       A    7953      2   \n",
       "1   10001 2010-02-26   11.0     2.0  4925        A       A    7953      2   \n",
       "2   10001 2010-03-31   11.0     2.0  4925        A       A    7953      2   \n",
       "3   10001 2010-04-30   11.0     2.0  4925        A       A    7953      2   \n",
       "4   10001 2010-05-28   11.0     2.0  4925        A       A    7953      2   \n",
       "\n",
       "  HSICCD  ... HSICIG  BIDLO    ASKHI      PRC     VOL  SHROUT  CFACPR  \\\n",
       "0   4925  ...    NaN   9.86  10.5000  10.0600  3104.0  4361.0     1.0   \n",
       "1   4925  ...    NaN   9.92  10.2201  10.0084  1510.0  4361.0     1.0   \n",
       "2   4925  ...    NaN   9.91  10.1800  10.1700  2283.0  4361.0     1.0   \n",
       "3   4925  ...    NaN  10.25  11.6100  11.3900  3350.0  6070.0     1.0   \n",
       "4   4925  ...    NaN  10.39  11.8000  11.4000  3451.0  6071.0     1.0   \n",
       "\n",
       "   CFACSHR  SPREAD    sprtrn  \n",
       "0      1.0     NaN -0.036974  \n",
       "1      1.0     NaN  0.028514  \n",
       "2      1.0     NaN  0.058796  \n",
       "3      1.0     NaN  0.014759  \n",
       "4      1.0     NaN -0.081976  \n",
       "\n",
       "[5 rows x 22 columns]"
      ]
     },
     "execution_count": 2,
     "metadata": {},
     "output_type": "execute_result"
    }
   ],
   "source": [
    "# loading data with the CRSP stock information (incl. PERMNO and CUSIP code).\n",
    "CRSP_monthly_stock_original = pd.read_csv('data/CRSP_MonthlyStock.csv', low_memory=False);\n",
    "\n",
    "# create a working copy\n",
    "CRSP_monthly_stock = CRSP_monthly_stock_original.copy()\n",
    "\n",
    "CRSP_monthly_stock['date'] = pd.to_datetime(\\\n",
    "    CRSP_monthly_stock['date'], format='%Y/%m/%d')\n",
    "\n",
    "# creating masks for the data frames to remove data out of date range\n",
    "CRSP_monthly_stock_mask = (CRSP_monthly_stock['date'] >= pd.Timestamp('2010-1-1')) & \\\n",
    "    (CRSP_monthly_stock['date'] <= pd.Timestamp('2017-1-31'))\n",
    "CRSP_monthly_stock = CRSP_monthly_stock.loc[CRSP_monthly_stock_mask]\n",
    "\n",
    "# printing the dimensions of the data frame CRSP_monthly_stock\n",
    "print('The data frame CRSP_monthly_stock consists of ' + \\\n",
    "      str(CRSP_monthly_stock.shape[0]) + ' rows and ' + \\\n",
    "      str(CRSP_monthly_stock.shape[1]) + ' columns.')\n",
    "\n",
    "# assess null values of the data frame CRSP_monthly_stock\n",
    "CRSP_monthly_stock_nans_share = CRSP_monthly_stock.isna().sum().sum() / \\\n",
    "    (CRSP_monthly_stock.shape[0] * CRSP_monthly_stock.shape[1])\n",
    "print('The data frame CRSP_monthly_stock contains about ' + \\\n",
    "      str(round(CRSP_monthly_stock_nans_share * 100, 2)) + '% null values.')\n",
    "\n",
    "# displaying the first few rows of the data frame CRSP_monthly_stock\n",
    "CRSP_monthly_stock.head()"
   ]
  },
  {
   "cell_type": "markdown",
   "metadata": {},
   "source": [
    "## 2.2 SP500 Company List"
   ]
  },
  {
   "cell_type": "code",
   "execution_count": 3,
   "metadata": {},
   "outputs": [
    {
     "name": "stdout",
     "output_type": "stream",
     "text": [
      "The data frame SP500_company_list consists of 515 rows and 9 columns.\n",
      "The data frame SP500_company_list contains about 0.0% null values.\n"
     ]
    },
    {
     "data": {
      "text/html": [
       "<div>\n",
       "<style scoped>\n",
       "    .dataframe tbody tr th:only-of-type {\n",
       "        vertical-align: middle;\n",
       "    }\n",
       "\n",
       "    .dataframe tbody tr th {\n",
       "        vertical-align: top;\n",
       "    }\n",
       "\n",
       "    .dataframe thead th {\n",
       "        text-align: right;\n",
       "    }\n",
       "</style>\n",
       "<table border=\"1\" class=\"dataframe\">\n",
       "  <thead>\n",
       "    <tr style=\"text-align: right;\">\n",
       "      <th></th>\n",
       "      <th>PERMNO</th>\n",
       "      <th>date</th>\n",
       "      <th>NCUSIP</th>\n",
       "      <th>TICKER</th>\n",
       "      <th>COMNAM</th>\n",
       "      <th>PERMCO</th>\n",
       "      <th>CUSIP</th>\n",
       "      <th>NWPERM</th>\n",
       "      <th>PRC</th>\n",
       "    </tr>\n",
       "  </thead>\n",
       "  <tbody>\n",
       "    <tr>\n",
       "      <th>0</th>\n",
       "      <td>10104</td>\n",
       "      <td>29/06/2018</td>\n",
       "      <td>68389X10</td>\n",
       "      <td>ORCL</td>\n",
       "      <td>ORACLE CORP</td>\n",
       "      <td>8045</td>\n",
       "      <td>68389X10</td>\n",
       "      <td>0</td>\n",
       "      <td>44.06</td>\n",
       "    </tr>\n",
       "    <tr>\n",
       "      <th>1</th>\n",
       "      <td>10107</td>\n",
       "      <td>29/06/2018</td>\n",
       "      <td>59491810</td>\n",
       "      <td>MSFT</td>\n",
       "      <td>MICROSOFT CORP</td>\n",
       "      <td>8048</td>\n",
       "      <td>59491810</td>\n",
       "      <td>0</td>\n",
       "      <td>98.61</td>\n",
       "    </tr>\n",
       "    <tr>\n",
       "      <th>2</th>\n",
       "      <td>10138</td>\n",
       "      <td>29/06/2018</td>\n",
       "      <td>74144T10</td>\n",
       "      <td>TROW</td>\n",
       "      <td>T ROWE PRICE GROUP INC</td>\n",
       "      <td>8087</td>\n",
       "      <td>74144T10</td>\n",
       "      <td>0</td>\n",
       "      <td>116.09</td>\n",
       "    </tr>\n",
       "    <tr>\n",
       "      <th>3</th>\n",
       "      <td>10145</td>\n",
       "      <td>29/06/2018</td>\n",
       "      <td>43851610</td>\n",
       "      <td>HON</td>\n",
       "      <td>HONEYWELL INTERNATIONAL INC</td>\n",
       "      <td>22168</td>\n",
       "      <td>43851610</td>\n",
       "      <td>0</td>\n",
       "      <td>144.05</td>\n",
       "    </tr>\n",
       "    <tr>\n",
       "      <th>4</th>\n",
       "      <td>10516</td>\n",
       "      <td>29/06/2018</td>\n",
       "      <td>03948310</td>\n",
       "      <td>ADM</td>\n",
       "      <td>ARCHER DANIELS MIDLAND CO</td>\n",
       "      <td>20207</td>\n",
       "      <td>03948310</td>\n",
       "      <td>0</td>\n",
       "      <td>45.83</td>\n",
       "    </tr>\n",
       "  </tbody>\n",
       "</table>\n",
       "</div>"
      ],
      "text/plain": [
       "   PERMNO        date    NCUSIP TICKER                       COMNAM  PERMCO  \\\n",
       "0   10104  29/06/2018  68389X10   ORCL                  ORACLE CORP    8045   \n",
       "1   10107  29/06/2018  59491810   MSFT               MICROSOFT CORP    8048   \n",
       "2   10138  29/06/2018  74144T10   TROW       T ROWE PRICE GROUP INC    8087   \n",
       "3   10145  29/06/2018  43851610    HON  HONEYWELL INTERNATIONAL INC   22168   \n",
       "4   10516  29/06/2018  03948310    ADM    ARCHER DANIELS MIDLAND CO   20207   \n",
       "\n",
       "      CUSIP  NWPERM     PRC  \n",
       "0  68389X10       0   44.06  \n",
       "1  59491810       0   98.61  \n",
       "2  74144T10       0  116.09  \n",
       "3  43851610       0  144.05  \n",
       "4  03948310       0   45.83  "
      ]
     },
     "execution_count": 3,
     "metadata": {},
     "output_type": "execute_result"
    }
   ],
   "source": [
    "# loading S&P 500 company list\n",
    "SP500_company_list = pd.read_csv('data/SP500_CompanyList.csv')\n",
    "\n",
    "# printing the dimensions of the data frame SP500_company_list\n",
    "print('The data frame SP500_company_list consists of ' + \\\n",
    "      str(SP500_company_list.shape[0]) + ' rows and ' + \\\n",
    "      str(SP500_company_list.shape[1]) + ' columns.')\n",
    "\n",
    "# assess null values of the data frame SP500_company_list\n",
    "SP500_company_list_nans_share = SP500_company_list.isna().sum().sum() / \\\n",
    "    (SP500_company_list.shape[0] * SP500_company_list.shape[1])\n",
    "print('The data frame SP500_company_list contains about ' + \\\n",
    "      str(round(SP500_company_list_nans_share * 100, 2)) + '% null values.')\n",
    "\n",
    "# displaying the first few rows of the data frame SP500_company_list\n",
    "SP500_company_list.head()"
   ]
  },
  {
   "cell_type": "markdown",
   "metadata": {},
   "source": [
    "## 2.3 Checking if all S&P 500 companies are in the CRSP data set"
   ]
  },
  {
   "cell_type": "markdown",
   "metadata": {},
   "source": [
    "### 2.3.1 Assessment of the Number of Unique Identifiers"
   ]
  },
  {
   "cell_type": "code",
   "execution_count": 4,
   "metadata": {},
   "outputs": [
    {
     "name": "stdout",
     "output_type": "stream",
     "text": [
      "There are 10256 unique CUSIP identifiers in CRSP_monthly_stock.\n",
      "There are 10256 unique PERMNO identifiers in CRSP_monthly_stock.\n",
      "\n",
      "There are 515 unique CUSIP identifiers in SP500_company_list.\n",
      "There are 515 unique PERMNO identifiers in SP500_company_list.\n"
     ]
    }
   ],
   "source": [
    "# number of companies according to CUSIP and PERMNO in monthly stock df\n",
    "print('There are ' + str(len(CRSP_monthly_stock['CUSIP'].unique())) + \\\n",
    "      ' unique CUSIP identifiers in CRSP_monthly_stock.')\n",
    "print('There are ' + str(len(CRSP_monthly_stock['PERMNO'].unique())) + \\\n",
    "      ' unique PERMNO identifiers in CRSP_monthly_stock.\\n')\n",
    "\n",
    "# number of companies according to CUSIP and PERMNO in company list df\n",
    "print('There are ' + str(len(SP500_company_list['CUSIP'].unique())) + \\\n",
    "      ' unique CUSIP identifiers in SP500_company_list.')\n",
    "print('There are ' + str(len(SP500_company_list['PERMNO'].unique())) + \\\n",
    "      ' unique PERMNO identifiers in SP500_company_list.')"
   ]
  },
  {
   "cell_type": "markdown",
   "metadata": {},
   "source": [
    "### 2.3.2 Assessment of the Differences of the two Data Frames"
   ]
  },
  {
   "cell_type": "code",
   "execution_count": 5,
   "metadata": {},
   "outputs": [
    {
     "name": "stdout",
     "output_type": "stream",
     "text": [
      "There are 2 PERMNO codes that are in the SP500_company_list but not in the CRSP_monthly_stock data frame:\n[16816, 16851]\n",
      "There are 16 CUSIP codes that are in the SP500_company_list but not in the CRSP_monthly_stock data frame:\n",
      "['40414L10', '87150310', '10922N10', '05493710', '98412160', '41387510', '12485710', '72027910', '12485720', '92936P10', '90130A20', '26078J10', '12550910', '89102710', '03748R10', '90130A10']\n"
     ]
    }
   ],
   "source": [
    "# make CUSIP codes strings\n",
    "SP500_company_list['CUSIP'] = SP500_company_list['CUSIP'].astype(str)\n",
    "CRSP_monthly_stock['CUSIP'] = CRSP_monthly_stock['CUSIP'].astype(str)\n",
    "\n",
    "# checking if all s&p500 companies are in CRSP_monthly_stock file (using PERMNO code).\n",
    "PERMNO_code_left = list(set(SP500_company_list['PERMNO']).\\\n",
    "                        difference(set(CRSP_monthly_stock['PERMNO'])))\n",
    "\n",
    "# checking if all s&p500 companies are in CRSP_monthly_stock file (using CUSIP code).\n",
    "CUSIP_code_left = list(set(SP500_company_list['CUSIP']).\n",
    "                       difference(set(CRSP_monthly_stock['CUSIP'])))\n",
    "\n",
    "print('There are ' + str(len(PERMNO_code_left)) + ' PERMNO codes that are' + \\\n",
    "      ' in the SP500_company_list but not in the CRSP_monthly_stock data frame.' + \\\n",
    "     str(PERMNO_code_left))\n",
    "\n",
    "print('There are ' + str(len(CUSIP_code_left)) + \\\n",
    "      ' CUSIP codes that are in the SP500_company_list but not in the' + \\\n",
    "      ' CRSP_monthly_stock data frame:\\n' + str(CUSIP_code_left))"
   ]
  },
  {
   "cell_type": "code",
   "execution_count": 6,
   "metadata": {},
   "outputs": [
    {
     "data": {
      "text/html": [
       "<div>\n",
       "<style scoped>\n",
       "    .dataframe tbody tr th:only-of-type {\n",
       "        vertical-align: middle;\n",
       "    }\n",
       "\n",
       "    .dataframe tbody tr th {\n",
       "        vertical-align: top;\n",
       "    }\n",
       "\n",
       "    .dataframe thead th {\n",
       "        text-align: right;\n",
       "    }\n",
       "</style>\n",
       "<table border=\"1\" class=\"dataframe\">\n",
       "  <thead>\n",
       "    <tr style=\"text-align: right;\">\n",
       "      <th></th>\n",
       "      <th>PERMNO</th>\n",
       "      <th>date</th>\n",
       "      <th>SHRCD</th>\n",
       "      <th>EXCHCD</th>\n",
       "      <th>SICCD</th>\n",
       "      <th>PRIMEXCH</th>\n",
       "      <th>TRDSTAT</th>\n",
       "      <th>PERMCO</th>\n",
       "      <th>HEXCD</th>\n",
       "      <th>HSICCD</th>\n",
       "      <th>...</th>\n",
       "      <th>HSICIG</th>\n",
       "      <th>BIDLO</th>\n",
       "      <th>ASKHI</th>\n",
       "      <th>PRC</th>\n",
       "      <th>VOL</th>\n",
       "      <th>SHROUT</th>\n",
       "      <th>CFACPR</th>\n",
       "      <th>CFACSHR</th>\n",
       "      <th>SPREAD</th>\n",
       "      <th>sprtrn</th>\n",
       "    </tr>\n",
       "  </thead>\n",
       "  <tbody>\n",
       "    <tr>\n",
       "      <th>230343</th>\n",
       "      <td>16816</td>\n",
       "      <td>2017/07/31</td>\n",
       "      <td>NaN</td>\n",
       "      <td>NaN</td>\n",
       "      <td>NaN</td>\n",
       "      <td>NaN</td>\n",
       "      <td>NaN</td>\n",
       "      <td>56000</td>\n",
       "      <td>3</td>\n",
       "      <td>9999</td>\n",
       "      <td>...</td>\n",
       "      <td>NaN</td>\n",
       "      <td>NaN</td>\n",
       "      <td>NaN</td>\n",
       "      <td>NaN</td>\n",
       "      <td>NaN</td>\n",
       "      <td>NaN</td>\n",
       "      <td>NaN</td>\n",
       "      <td>NaN</td>\n",
       "      <td>NaN</td>\n",
       "      <td>0.019349</td>\n",
       "    </tr>\n",
       "  </tbody>\n",
       "</table>\n",
       "<p>1 rows × 22 columns</p>\n",
       "</div>"
      ],
      "text/plain": [
       "        PERMNO        date  SHRCD  EXCHCD SICCD PRIMEXCH TRDSTAT  PERMCO  \\\n",
       "230343   16816  2017/07/31    NaN     NaN   NaN      NaN     NaN   56000   \n",
       "\n",
       "        HEXCD HSICCD  ... HSICIG  BIDLO  ASKHI  PRC  VOL  SHROUT  CFACPR  \\\n",
       "230343      3   9999  ...    NaN    NaN    NaN  NaN  NaN     NaN     NaN   \n",
       "\n",
       "        CFACSHR  SPREAD    sprtrn  \n",
       "230343      NaN     NaN  0.019349  \n",
       "\n",
       "[1 rows x 22 columns]"
      ]
     },
     "execution_count": 6,
     "metadata": {},
     "output_type": "execute_result"
    },
    {
     "data": {
      "text/html": [
       "<div>\n",
       "<style scoped>\n",
       "    .dataframe tbody tr th:only-of-type {\n",
       "        vertical-align: middle;\n",
       "    }\n",
       "\n",
       "    .dataframe tbody tr th {\n",
       "        vertical-align: top;\n",
       "    }\n",
       "\n",
       "    .dataframe thead th {\n",
       "        text-align: right;\n",
       "    }\n",
       "</style>\n",
       "<table border=\"1\" class=\"dataframe\">\n",
       "  <thead>\n",
       "    <tr style=\"text-align: right;\">\n",
       "      <th></th>\n",
       "      <th>PERMNO</th>\n",
       "      <th>date</th>\n",
       "      <th>SHRCD</th>\n",
       "      <th>EXCHCD</th>\n",
       "      <th>SICCD</th>\n",
       "      <th>PRIMEXCH</th>\n",
       "      <th>TRDSTAT</th>\n",
       "      <th>PERMCO</th>\n",
       "      <th>HEXCD</th>\n",
       "      <th>HSICCD</th>\n",
       "      <th>...</th>\n",
       "      <th>HSICIG</th>\n",
       "      <th>BIDLO</th>\n",
       "      <th>ASKHI</th>\n",
       "      <th>PRC</th>\n",
       "      <th>VOL</th>\n",
       "      <th>SHROUT</th>\n",
       "      <th>CFACPR</th>\n",
       "      <th>CFACSHR</th>\n",
       "      <th>SPREAD</th>\n",
       "      <th>sprtrn</th>\n",
       "    </tr>\n",
       "  </thead>\n",
       "  <tbody>\n",
       "    <tr>\n",
       "      <th>231250</th>\n",
       "      <td>16851</td>\n",
       "      <td>2017/08/31</td>\n",
       "      <td>NaN</td>\n",
       "      <td>NaN</td>\n",
       "      <td>NaN</td>\n",
       "      <td>NaN</td>\n",
       "      <td>NaN</td>\n",
       "      <td>56027</td>\n",
       "      <td>1</td>\n",
       "      <td>5191</td>\n",
       "      <td>...</td>\n",
       "      <td>NaN</td>\n",
       "      <td>NaN</td>\n",
       "      <td>NaN</td>\n",
       "      <td>NaN</td>\n",
       "      <td>NaN</td>\n",
       "      <td>NaN</td>\n",
       "      <td>NaN</td>\n",
       "      <td>NaN</td>\n",
       "      <td>NaN</td>\n",
       "      <td>0.000546</td>\n",
       "    </tr>\n",
       "  </tbody>\n",
       "</table>\n",
       "<p>1 rows × 22 columns</p>\n",
       "</div>"
      ],
      "text/plain": [
       "        PERMNO        date  SHRCD  EXCHCD SICCD PRIMEXCH TRDSTAT  PERMCO  \\\n",
       "231250   16851  2017/08/31    NaN     NaN   NaN      NaN     NaN   56027   \n",
       "\n",
       "        HEXCD HSICCD  ... HSICIG  BIDLO  ASKHI  PRC  VOL  SHROUT  CFACPR  \\\n",
       "231250      1   5191  ...    NaN    NaN    NaN  NaN  NaN     NaN     NaN   \n",
       "\n",
       "        CFACSHR  SPREAD    sprtrn  \n",
       "231250      NaN     NaN  0.000546  \n",
       "\n",
       "[1 rows x 22 columns]"
      ]
     },
     "execution_count": 6,
     "metadata": {},
     "output_type": "execute_result"
    }
   ],
   "source": [
    "# looking at two permno codes not found in CRSP.\n",
    "# since the data is sorted according to date we can look at the first observation found.\n",
    "CRSP_monthly_stock_original[CRSP_monthly_stock_original['PERMNO'] == 16816].head(1)\n",
    "CRSP_monthly_stock_original[CRSP_monthly_stock_original['PERMNO'] == 16851].head(1)"
   ]
  },
  {
   "cell_type": "markdown",
   "metadata": {},
   "source": [
    "### 2.3.3 Assessment with regards to the SP500 Companies"
   ]
  },
  {
   "cell_type": "code",
   "execution_count": 7,
   "metadata": {},
   "outputs": [],
   "source": [
    "# adding column to CRSP_monhtly_stock to indicate if company is in the S&P 500 index\n",
    "in_sp500 = []\n",
    "for stock in CRSP_monthly_stock['PERMNO'].tolist():\n",
    "    in_sp500.append(stock in set(SP500_company_list['PERMNO'].tolist()))\n",
    "    \n",
    "CRSP_monthly_stock['in_sp500'] = in_sp500"
   ]
  },
  {
   "cell_type": "code",
   "execution_count": 8,
   "metadata": {},
   "outputs": [
    {
     "name": "stdout",
     "output_type": "stream",
     "text": [
      "There are 0 observations for which it is not known if the company is in the SP500 or not.\n",
      "Around 7 % of the companies are in the SP500.\n"
     ]
    }
   ],
   "source": [
    "print('There are ' + str(CRSP_monthly_stock['in_sp500'].isna().sum()) + \\\n",
    "      ' observations for which it is not known if the company is in the SP500 or not')\n",
    "\n",
    "in_sp500_counter = Counter(CRSP_monthly_stock['in_sp500'])\n",
    "in_sp500_percent = in_sp500_counter[True] / (in_sp500_counter[True] + in_sp500_counter[False])\n",
    "\n",
    "print('Around ' + str(round(in_sp500_percent * 100)) + ' % of the companies are in the SP500.')"
   ]
  },
  {
   "cell_type": "markdown",
   "metadata": {},
   "source": [
    "### 2.3.4 Extract Identifier Codes"
   ]
  },
  {
   "cell_type": "code",
   "execution_count": 9,
   "metadata": {},
   "outputs": [],
   "source": [
    "# exporting CUSIP code list as .txt file\n",
    "with open('data/CUSIP_codes.txt', 'w') as cusip_codes:\n",
    "    _ = cusip_codes.write(pd.Series(CRSP_monthly_stock['CUSIP'].unique()).to_string(index=False))\n",
    "\n",
    "# exporting PERMNO code list as .txt file\n",
    "with open('data/PERMNO_codes.txt', 'w') as cusip_codes:\n",
    "    _ = cusip_codes.write(pd.Series(CRSP_monthly_stock['PERMNO'].unique()).to_string(index=False))\n",
    "    \n",
    "# exporting SIC code list as .txt file\n",
    "with open('data/SIC_codes.txt', 'w') as cusip_codes:\n",
    "    _ = cusip_codes.write(pd.Series(CRSP_monthly_stock['SICCD'].unique()).to_string(index=False))"
   ]
  },
  {
   "cell_type": "markdown",
   "metadata": {},
   "source": [
    "## 2.4 Firm Level Financial Ratios"
   ]
  },
  {
   "cell_type": "code",
   "execution_count": 10,
   "metadata": {},
   "outputs": [
    {
     "name": "stdout",
     "output_type": "stream",
     "text": [
      "The data frame financial_ratios_firm_level consists of 315757 rows and 75 columns.\n",
      "The data frame financial_ratios_firm_level contains about 10.31% null values.\n"
     ]
    },
    {
     "data": {
      "text/html": [
       "<div>\n",
       "<style scoped>\n",
       "    .dataframe tbody tr th:only-of-type {\n",
       "        vertical-align: middle;\n",
       "    }\n",
       "\n",
       "    .dataframe tbody tr th {\n",
       "        vertical-align: top;\n",
       "    }\n",
       "\n",
       "    .dataframe thead th {\n",
       "        text-align: right;\n",
       "    }\n",
       "</style>\n",
       "<table border=\"1\" class=\"dataframe\">\n",
       "  <thead>\n",
       "    <tr style=\"text-align: right;\">\n",
       "      <th></th>\n",
       "      <th>permno</th>\n",
       "      <th>adate</th>\n",
       "      <th>qdate</th>\n",
       "      <th>public_date</th>\n",
       "      <th>CAPEI</th>\n",
       "      <th>bm</th>\n",
       "      <th>evm</th>\n",
       "      <th>pe_op_basic</th>\n",
       "      <th>pe_op_dil</th>\n",
       "      <th>pe_exi</th>\n",
       "      <th>...</th>\n",
       "      <th>sale_nwc</th>\n",
       "      <th>rd_sale</th>\n",
       "      <th>adv_sale</th>\n",
       "      <th>staff_sale</th>\n",
       "      <th>accrual</th>\n",
       "      <th>ptb</th>\n",
       "      <th>PEG_trailing</th>\n",
       "      <th>DIVYIELD</th>\n",
       "      <th>PEG_1yrforward</th>\n",
       "      <th>PEG_ltgforward</th>\n",
       "    </tr>\n",
       "  </thead>\n",
       "  <tbody>\n",
       "    <tr>\n",
       "      <th>0</th>\n",
       "      <td>10001</td>\n",
       "      <td>2008/12/31</td>\n",
       "      <td>2009/09/30</td>\n",
       "      <td>2010/01/31</td>\n",
       "      <td>22.503</td>\n",
       "      <td>0.850</td>\n",
       "      <td>5.945</td>\n",
       "      <td>10.702</td>\n",
       "      <td>10.702</td>\n",
       "      <td>13.237</td>\n",
       "      <td>...</td>\n",
       "      <td>100.077</td>\n",
       "      <td>0.0</td>\n",
       "      <td>0.0</td>\n",
       "      <td>0.0</td>\n",
       "      <td>0.135</td>\n",
       "      <td>1.395</td>\n",
       "      <td>NaN</td>\n",
       "      <td>5.37%</td>\n",
       "      <td>NaN</td>\n",
       "      <td>NaN</td>\n",
       "    </tr>\n",
       "    <tr>\n",
       "      <th>1</th>\n",
       "      <td>10001</td>\n",
       "      <td>2009/12/31</td>\n",
       "      <td>2009/12/31</td>\n",
       "      <td>2010/02/28</td>\n",
       "      <td>13.537</td>\n",
       "      <td>0.799</td>\n",
       "      <td>6.496</td>\n",
       "      <td>5.853</td>\n",
       "      <td>5.853</td>\n",
       "      <td>6.334</td>\n",
       "      <td>...</td>\n",
       "      <td>NaN</td>\n",
       "      <td>0.0</td>\n",
       "      <td>0.0</td>\n",
       "      <td>0.0</td>\n",
       "      <td>0.123</td>\n",
       "      <td>1.216</td>\n",
       "      <td>0.199</td>\n",
       "      <td>5.40%</td>\n",
       "      <td>NaN</td>\n",
       "      <td>NaN</td>\n",
       "    </tr>\n",
       "    <tr>\n",
       "      <th>2</th>\n",
       "      <td>10001</td>\n",
       "      <td>2009/12/31</td>\n",
       "      <td>2009/12/31</td>\n",
       "      <td>2010/03/31</td>\n",
       "      <td>13.756</td>\n",
       "      <td>0.799</td>\n",
       "      <td>6.496</td>\n",
       "      <td>5.947</td>\n",
       "      <td>5.947</td>\n",
       "      <td>6.437</td>\n",
       "      <td>...</td>\n",
       "      <td>NaN</td>\n",
       "      <td>0.0</td>\n",
       "      <td>0.0</td>\n",
       "      <td>0.0</td>\n",
       "      <td>0.123</td>\n",
       "      <td>1.235</td>\n",
       "      <td>0.202</td>\n",
       "      <td>5.31%</td>\n",
       "      <td>NaN</td>\n",
       "      <td>NaN</td>\n",
       "    </tr>\n",
       "    <tr>\n",
       "      <th>3</th>\n",
       "      <td>10001</td>\n",
       "      <td>2009/12/31</td>\n",
       "      <td>2009/12/31</td>\n",
       "      <td>2010/04/30</td>\n",
       "      <td>21.443</td>\n",
       "      <td>0.799</td>\n",
       "      <td>6.496</td>\n",
       "      <td>6.661</td>\n",
       "      <td>6.661</td>\n",
       "      <td>7.209</td>\n",
       "      <td>...</td>\n",
       "      <td>NaN</td>\n",
       "      <td>0.0</td>\n",
       "      <td>0.0</td>\n",
       "      <td>0.0</td>\n",
       "      <td>0.123</td>\n",
       "      <td>1.925</td>\n",
       "      <td>0.226</td>\n",
       "      <td>4.74%</td>\n",
       "      <td>NaN</td>\n",
       "      <td>NaN</td>\n",
       "    </tr>\n",
       "    <tr>\n",
       "      <th>4</th>\n",
       "      <td>10001</td>\n",
       "      <td>2009/12/31</td>\n",
       "      <td>2010/03/31</td>\n",
       "      <td>2010/05/31</td>\n",
       "      <td>22.817</td>\n",
       "      <td>0.900</td>\n",
       "      <td>5.013</td>\n",
       "      <td>5.969</td>\n",
       "      <td>5.969</td>\n",
       "      <td>6.590</td>\n",
       "      <td>...</td>\n",
       "      <td>NaN</td>\n",
       "      <td>0.0</td>\n",
       "      <td>0.0</td>\n",
       "      <td>0.0</td>\n",
       "      <td>0.038</td>\n",
       "      <td>1.245</td>\n",
       "      <td>0.140</td>\n",
       "      <td>4.74%</td>\n",
       "      <td>NaN</td>\n",
       "      <td>NaN</td>\n",
       "    </tr>\n",
       "  </tbody>\n",
       "</table>\n",
       "<p>5 rows × 75 columns</p>\n",
       "</div>"
      ],
      "text/plain": [
       "   permno       adate       qdate public_date   CAPEI     bm    evm  \\\n",
       "0   10001  2008/12/31  2009/09/30  2010/01/31  22.503  0.850  5.945   \n",
       "1   10001  2009/12/31  2009/12/31  2010/02/28  13.537  0.799  6.496   \n",
       "2   10001  2009/12/31  2009/12/31  2010/03/31  13.756  0.799  6.496   \n",
       "3   10001  2009/12/31  2009/12/31  2010/04/30  21.443  0.799  6.496   \n",
       "4   10001  2009/12/31  2010/03/31  2010/05/31  22.817  0.900  5.013   \n",
       "\n",
       "   pe_op_basic  pe_op_dil  pe_exi  ...  sale_nwc  rd_sale  adv_sale  \\\n",
       "0       10.702     10.702  13.237  ...   100.077      0.0       0.0   \n",
       "1        5.853      5.853   6.334  ...       NaN      0.0       0.0   \n",
       "2        5.947      5.947   6.437  ...       NaN      0.0       0.0   \n",
       "3        6.661      6.661   7.209  ...       NaN      0.0       0.0   \n",
       "4        5.969      5.969   6.590  ...       NaN      0.0       0.0   \n",
       "\n",
       "   staff_sale  accrual    ptb  PEG_trailing  DIVYIELD  PEG_1yrforward  \\\n",
       "0         0.0    0.135  1.395           NaN     5.37%             NaN   \n",
       "1         0.0    0.123  1.216         0.199     5.40%             NaN   \n",
       "2         0.0    0.123  1.235         0.202     5.31%             NaN   \n",
       "3         0.0    0.123  1.925         0.226     4.74%             NaN   \n",
       "4         0.0    0.038  1.245         0.140     4.74%             NaN   \n",
       "\n",
       "   PEG_ltgforward  \n",
       "0             NaN  \n",
       "1             NaN  \n",
       "2             NaN  \n",
       "3             NaN  \n",
       "4             NaN  \n",
       "\n",
       "[5 rows x 75 columns]"
      ]
     },
     "execution_count": 10,
     "metadata": {},
     "output_type": "execute_result"
    }
   ],
   "source": [
    "# loading financial ratio firm level data.\n",
    "financial_ratios_firm_level = pd.read_csv('data/FinancialRatios_FirmLevel.csv')\n",
    "\n",
    "# printing the dimensions of the data frame financial_ratios_firm_level\n",
    "print('The data frame financial_ratios_firm_level consists of ' + \\\n",
    "      str(financial_ratios_firm_level.shape[0]) + ' rows and ' + \\\n",
    "      str(financial_ratios_firm_level.shape[1]) + ' columns.')\n",
    "\n",
    "# assess null values of the data frame financial_ratios_firm_level\n",
    "financial_ratios_firm_level_nans_share = financial_ratios_firm_level.isna().sum().sum() / \\\n",
    "    (financial_ratios_firm_level.shape[0] * financial_ratios_firm_level.shape[1])\n",
    "print('The data frame financial_ratios_firm_level contains about ' + \\\n",
    "      str(round(financial_ratios_firm_level_nans_share * 100, 2)) + '% null values.')\n",
    "\n",
    "# displaying the first few rows of the data frame financial_ratios_firm_level\n",
    "financial_ratios_firm_level.head()"
   ]
  },
  {
   "cell_type": "markdown",
   "metadata": {},
   "source": [
    "## 2.5 Long Term Credit Rating"
   ]
  },
  {
   "cell_type": "code",
   "execution_count": 11,
   "metadata": {},
   "outputs": [
    {
     "name": "stdout",
     "output_type": "stream",
     "text": [
      "The data frame long_term_credit_rating consists of 772457 rows and 15 columns.\n",
      "The data frame long_term_credit_rating contains about 23.24% null values.\n"
     ]
    },
    {
     "data": {
      "text/html": [
       "<div>\n",
       "<style scoped>\n",
       "    .dataframe tbody tr th:only-of-type {\n",
       "        vertical-align: middle;\n",
       "    }\n",
       "\n",
       "    .dataframe tbody tr th {\n",
       "        vertical-align: top;\n",
       "    }\n",
       "\n",
       "    .dataframe thead th {\n",
       "        text-align: right;\n",
       "    }\n",
       "</style>\n",
       "<table border=\"1\" class=\"dataframe\">\n",
       "  <thead>\n",
       "    <tr style=\"text-align: right;\">\n",
       "      <th></th>\n",
       "      <th>gvkey</th>\n",
       "      <th>splticrm</th>\n",
       "      <th>datadate</th>\n",
       "      <th>addzip</th>\n",
       "      <th>city</th>\n",
       "      <th>county</th>\n",
       "      <th>ggroup</th>\n",
       "      <th>gind</th>\n",
       "      <th>gsector</th>\n",
       "      <th>idbflag</th>\n",
       "      <th>loc</th>\n",
       "      <th>spcsrc</th>\n",
       "      <th>state</th>\n",
       "      <th>ipodate</th>\n",
       "      <th>cusip</th>\n",
       "    </tr>\n",
       "  </thead>\n",
       "  <tbody>\n",
       "    <tr>\n",
       "      <th>0</th>\n",
       "      <td>1003</td>\n",
       "      <td>NaN</td>\n",
       "      <td>2010/01/31</td>\n",
       "      <td>63125</td>\n",
       "      <td>St. Louis</td>\n",
       "      <td>NaN</td>\n",
       "      <td>2550.0</td>\n",
       "      <td>255040.0</td>\n",
       "      <td>25.0</td>\n",
       "      <td>D</td>\n",
       "      <td>USA</td>\n",
       "      <td>NaN</td>\n",
       "      <td>MO</td>\n",
       "      <td>NaN</td>\n",
       "      <td>000354100</td>\n",
       "    </tr>\n",
       "    <tr>\n",
       "      <th>1</th>\n",
       "      <td>1003</td>\n",
       "      <td>NaN</td>\n",
       "      <td>2010/02/28</td>\n",
       "      <td>63125</td>\n",
       "      <td>St. Louis</td>\n",
       "      <td>NaN</td>\n",
       "      <td>2550.0</td>\n",
       "      <td>255040.0</td>\n",
       "      <td>25.0</td>\n",
       "      <td>D</td>\n",
       "      <td>USA</td>\n",
       "      <td>NaN</td>\n",
       "      <td>MO</td>\n",
       "      <td>NaN</td>\n",
       "      <td>000354100</td>\n",
       "    </tr>\n",
       "    <tr>\n",
       "      <th>2</th>\n",
       "      <td>1003</td>\n",
       "      <td>NaN</td>\n",
       "      <td>2010/03/31</td>\n",
       "      <td>63125</td>\n",
       "      <td>St. Louis</td>\n",
       "      <td>NaN</td>\n",
       "      <td>2550.0</td>\n",
       "      <td>255040.0</td>\n",
       "      <td>25.0</td>\n",
       "      <td>D</td>\n",
       "      <td>USA</td>\n",
       "      <td>NaN</td>\n",
       "      <td>MO</td>\n",
       "      <td>NaN</td>\n",
       "      <td>000354100</td>\n",
       "    </tr>\n",
       "    <tr>\n",
       "      <th>3</th>\n",
       "      <td>1003</td>\n",
       "      <td>NaN</td>\n",
       "      <td>2010/04/30</td>\n",
       "      <td>63125</td>\n",
       "      <td>St. Louis</td>\n",
       "      <td>NaN</td>\n",
       "      <td>2550.0</td>\n",
       "      <td>255040.0</td>\n",
       "      <td>25.0</td>\n",
       "      <td>D</td>\n",
       "      <td>USA</td>\n",
       "      <td>NaN</td>\n",
       "      <td>MO</td>\n",
       "      <td>NaN</td>\n",
       "      <td>000354100</td>\n",
       "    </tr>\n",
       "    <tr>\n",
       "      <th>4</th>\n",
       "      <td>1003</td>\n",
       "      <td>NaN</td>\n",
       "      <td>2010/05/31</td>\n",
       "      <td>63125</td>\n",
       "      <td>St. Louis</td>\n",
       "      <td>NaN</td>\n",
       "      <td>2550.0</td>\n",
       "      <td>255040.0</td>\n",
       "      <td>25.0</td>\n",
       "      <td>D</td>\n",
       "      <td>USA</td>\n",
       "      <td>NaN</td>\n",
       "      <td>MO</td>\n",
       "      <td>NaN</td>\n",
       "      <td>000354100</td>\n",
       "    </tr>\n",
       "  </tbody>\n",
       "</table>\n",
       "</div>"
      ],
      "text/plain": [
       "   gvkey splticrm    datadate addzip       city county  ggroup      gind  \\\n",
       "0   1003      NaN  2010/01/31  63125  St. Louis    NaN  2550.0  255040.0   \n",
       "1   1003      NaN  2010/02/28  63125  St. Louis    NaN  2550.0  255040.0   \n",
       "2   1003      NaN  2010/03/31  63125  St. Louis    NaN  2550.0  255040.0   \n",
       "3   1003      NaN  2010/04/30  63125  St. Louis    NaN  2550.0  255040.0   \n",
       "4   1003      NaN  2010/05/31  63125  St. Louis    NaN  2550.0  255040.0   \n",
       "\n",
       "   gsector idbflag  loc spcsrc state ipodate      cusip  \n",
       "0     25.0       D  USA    NaN    MO     NaN  000354100  \n",
       "1     25.0       D  USA    NaN    MO     NaN  000354100  \n",
       "2     25.0       D  USA    NaN    MO     NaN  000354100  \n",
       "3     25.0       D  USA    NaN    MO     NaN  000354100  \n",
       "4     25.0       D  USA    NaN    MO     NaN  000354100  "
      ]
     },
     "execution_count": 11,
     "metadata": {},
     "output_type": "execute_result"
    }
   ],
   "source": [
    "# loading long term credit rating data.\n",
    "long_term_credit_rating = pd.read_csv('data/LongTermCreditRating.csv', low_memory=False)\n",
    "\n",
    "# printing the dimensions of the data frame long_term_credit_rating\n",
    "print('The data frame long_term_credit_rating consists of ' + \\\n",
    "      str(long_term_credit_rating.shape[0]) + ' rows and ' + \\\n",
    "      str(long_term_credit_rating.shape[1]) + ' columns.')\n",
    "\n",
    "# assess null values of the data frame long_term_credit_rating\n",
    "long_term_credit_rating_nans_share = long_term_credit_rating.isna().sum().sum() / \\\n",
    "    (long_term_credit_rating.shape[0] * long_term_credit_rating.shape[1])\n",
    "print('The data frame long_term_credit_rating contains about ' + \\\n",
    "      str(round(long_term_credit_rating_nans_share * 100, 2)) + '% null values.')\n",
    "\n",
    "# displaying the first few rows of the data frame long_term_credit_rating\n",
    "long_term_credit_rating.head()"
   ]
  },
  {
   "cell_type": "markdown",
   "metadata": {},
   "source": [
    "## 2.6 US Treasury and Inflation"
   ]
  },
  {
   "cell_type": "code",
   "execution_count": 12,
   "metadata": {},
   "outputs": [
    {
     "name": "stdout",
     "output_type": "stream",
     "text": [
      "The data frame US_treasury_and_inflation consists of 85 rows and 9 columns.\n",
      "The data frame US_treasury_and_inflation contains about 0.0% null values.\n"
     ]
    },
    {
     "data": {
      "text/html": [
       "<div>\n",
       "<style scoped>\n",
       "    .dataframe tbody tr th:only-of-type {\n",
       "        vertical-align: middle;\n",
       "    }\n",
       "\n",
       "    .dataframe tbody tr th {\n",
       "        vertical-align: top;\n",
       "    }\n",
       "\n",
       "    .dataframe thead th {\n",
       "        text-align: right;\n",
       "    }\n",
       "</style>\n",
       "<table border=\"1\" class=\"dataframe\">\n",
       "  <thead>\n",
       "    <tr style=\"text-align: right;\">\n",
       "      <th></th>\n",
       "      <th>caldt</th>\n",
       "      <th>b1ret</th>\n",
       "      <th>b1ind</th>\n",
       "      <th>t90ret</th>\n",
       "      <th>t90ind</th>\n",
       "      <th>t30ret</th>\n",
       "      <th>t30ind</th>\n",
       "      <th>cpiret</th>\n",
       "      <th>cpiind</th>\n",
       "    </tr>\n",
       "  </thead>\n",
       "  <tbody>\n",
       "    <tr>\n",
       "      <th>0</th>\n",
       "      <td>20100129</td>\n",
       "      <td>0.003246</td>\n",
       "      <td>1229.322</td>\n",
       "      <td>0.000062</td>\n",
       "      <td>964.5938</td>\n",
       "      <td>0.000028</td>\n",
       "      <td>792.7575</td>\n",
       "      <td>0.003417</td>\n",
       "      <td>509.9</td>\n",
       "    </tr>\n",
       "    <tr>\n",
       "      <th>1</th>\n",
       "      <td>20100226</td>\n",
       "      <td>-0.000473</td>\n",
       "      <td>1228.741</td>\n",
       "      <td>0.000015</td>\n",
       "      <td>964.6083</td>\n",
       "      <td>0.000010</td>\n",
       "      <td>792.7653</td>\n",
       "      <td>0.000249</td>\n",
       "      <td>510.0</td>\n",
       "    </tr>\n",
       "    <tr>\n",
       "      <th>2</th>\n",
       "      <td>20100331</td>\n",
       "      <td>-0.000869</td>\n",
       "      <td>1227.673</td>\n",
       "      <td>0.000042</td>\n",
       "      <td>964.6488</td>\n",
       "      <td>0.000068</td>\n",
       "      <td>792.8193</td>\n",
       "      <td>0.004106</td>\n",
       "      <td>512.1</td>\n",
       "    </tr>\n",
       "    <tr>\n",
       "      <th>3</th>\n",
       "      <td>20100430</td>\n",
       "      <td>0.000162</td>\n",
       "      <td>1227.872</td>\n",
       "      <td>0.000129</td>\n",
       "      <td>964.7732</td>\n",
       "      <td>0.000111</td>\n",
       "      <td>792.9073</td>\n",
       "      <td>0.001737</td>\n",
       "      <td>513.0</td>\n",
       "    </tr>\n",
       "    <tr>\n",
       "      <th>4</th>\n",
       "      <td>20100528</td>\n",
       "      <td>0.000695</td>\n",
       "      <td>1228.726</td>\n",
       "      <td>0.000129</td>\n",
       "      <td>964.8977</td>\n",
       "      <td>0.000112</td>\n",
       "      <td>792.9961</td>\n",
       "      <td>0.000775</td>\n",
       "      <td>513.4</td>\n",
       "    </tr>\n",
       "  </tbody>\n",
       "</table>\n",
       "</div>"
      ],
      "text/plain": [
       "      caldt     b1ret     b1ind    t90ret    t90ind    t30ret    t30ind  \\\n",
       "0  20100129  0.003246  1229.322  0.000062  964.5938  0.000028  792.7575   \n",
       "1  20100226 -0.000473  1228.741  0.000015  964.6083  0.000010  792.7653   \n",
       "2  20100331 -0.000869  1227.673  0.000042  964.6488  0.000068  792.8193   \n",
       "3  20100430  0.000162  1227.872  0.000129  964.7732  0.000111  792.9073   \n",
       "4  20100528  0.000695  1228.726  0.000129  964.8977  0.000112  792.9961   \n",
       "\n",
       "     cpiret  cpiind  \n",
       "0  0.003417   509.9  \n",
       "1  0.000249   510.0  \n",
       "2  0.004106   512.1  \n",
       "3  0.001737   513.0  \n",
       "4  0.000775   513.4  "
      ]
     },
     "execution_count": 12,
     "metadata": {},
     "output_type": "execute_result"
    }
   ],
   "source": [
    "# loading data\n",
    "US_treasury_and_inflation = pd.read_csv('data/US_Treasury_and_Inflation_Indexes.csv')\n",
    "\n",
    "# printing the dimensions of the data frame US_treasury_and_inflation\n",
    "print('The data frame US_treasury_and_inflation consists of ' + \\\n",
    "      str(US_treasury_and_inflation.shape[0]) + ' rows and ' + \\\n",
    "      str(US_treasury_and_inflation.shape[1]) + ' columns.')\n",
    "\n",
    "# assess null values of the data frame US_treasury_and_inflation\n",
    "US_treasury_and_inflation_nans_share = US_treasury_and_inflation.isna().sum().sum() / \\\n",
    "    (US_treasury_and_inflation.shape[0] * US_treasury_and_inflation.shape[1])\n",
    "print('The data frame US_treasury_and_inflation contains about ' + \\\n",
    "      str(round(US_treasury_and_inflation_nans_share * 100, 2)) + '% null values.')\n",
    "\n",
    "# displaying the first few rows of the data frame US_treasury_and_inflation\n",
    "US_treasury_and_inflation.head()"
   ]
  },
  {
   "cell_type": "markdown",
   "metadata": {},
   "source": [
    "## 2.7 Financial Ratios Industry Level\n"
   ]
  },
  {
   "cell_type": "code",
   "execution_count": 13,
   "metadata": {},
   "outputs": [
    {
     "name": "stdout",
     "output_type": "stream",
     "text": [
      "The data frame financial_ratios_industry_level consists of 855 rows and 76 columns.\n",
      "The data frame financial_ratios_industry_level contains about 0.0% null values.\n"
     ]
    },
    {
     "data": {
      "text/html": [
       "<div>\n",
       "<style scoped>\n",
       "    .dataframe tbody tr th:only-of-type {\n",
       "        vertical-align: middle;\n",
       "    }\n",
       "\n",
       "    .dataframe tbody tr th {\n",
       "        vertical-align: top;\n",
       "    }\n",
       "\n",
       "    .dataframe thead th {\n",
       "        text-align: right;\n",
       "    }\n",
       "</style>\n",
       "<table border=\"1\" class=\"dataframe\">\n",
       "  <thead>\n",
       "    <tr style=\"text-align: right;\">\n",
       "      <th></th>\n",
       "      <th>public_date</th>\n",
       "      <th>gicdesc</th>\n",
       "      <th>NFIRM</th>\n",
       "      <th>indret_ew</th>\n",
       "      <th>indret_vw</th>\n",
       "      <th>dpr_Median</th>\n",
       "      <th>PEG_trailing_Median</th>\n",
       "      <th>bm_Median</th>\n",
       "      <th>CAPEI_Median</th>\n",
       "      <th>DIVYIELD_Median</th>\n",
       "      <th>...</th>\n",
       "      <th>rect_turn_Median</th>\n",
       "      <th>sale_equity_Median</th>\n",
       "      <th>sale_invcap_Median</th>\n",
       "      <th>sale_nwc_Median</th>\n",
       "      <th>accrual_Median</th>\n",
       "      <th>rd_sale_Median</th>\n",
       "      <th>adv_sale_Median</th>\n",
       "      <th>staff_sale_Median</th>\n",
       "      <th>PEG_1yrforward_Median</th>\n",
       "      <th>PEG_ltgforward_Median</th>\n",
       "    </tr>\n",
       "  </thead>\n",
       "  <tbody>\n",
       "    <tr>\n",
       "      <th>0</th>\n",
       "      <td>2010/01/31</td>\n",
       "      <td>Communication Services</td>\n",
       "      <td>52</td>\n",
       "      <td>-0.071969</td>\n",
       "      <td>-0.080034</td>\n",
       "      <td>0.227</td>\n",
       "      <td>0.454</td>\n",
       "      <td>0.566</td>\n",
       "      <td>11.587</td>\n",
       "      <td>7.25%</td>\n",
       "      <td>...</td>\n",
       "      <td>9.905</td>\n",
       "      <td>1.641</td>\n",
       "      <td>0.749</td>\n",
       "      <td>8.094</td>\n",
       "      <td>0.101</td>\n",
       "      <td>0.0</td>\n",
       "      <td>0.003</td>\n",
       "      <td>0.000</td>\n",
       "      <td>-0.042</td>\n",
       "      <td>1.118</td>\n",
       "    </tr>\n",
       "    <tr>\n",
       "      <th>1</th>\n",
       "      <td>2010/01/31</td>\n",
       "      <td>Consumer Discretionary</td>\n",
       "      <td>606</td>\n",
       "      <td>-0.000817</td>\n",
       "      <td>-0.025503</td>\n",
       "      <td>0.000</td>\n",
       "      <td>0.220</td>\n",
       "      <td>0.630</td>\n",
       "      <td>11.491</td>\n",
       "      <td>2.14%</td>\n",
       "      <td>...</td>\n",
       "      <td>10.439</td>\n",
       "      <td>2.652</td>\n",
       "      <td>1.858</td>\n",
       "      <td>5.224</td>\n",
       "      <td>0.112</td>\n",
       "      <td>0.0</td>\n",
       "      <td>0.014</td>\n",
       "      <td>0.000</td>\n",
       "      <td>-0.041</td>\n",
       "      <td>0.835</td>\n",
       "    </tr>\n",
       "    <tr>\n",
       "      <th>2</th>\n",
       "      <td>2010/01/31</td>\n",
       "      <td>Consumer Staples</td>\n",
       "      <td>173</td>\n",
       "      <td>-0.018075</td>\n",
       "      <td>-0.010126</td>\n",
       "      <td>0.161</td>\n",
       "      <td>0.675</td>\n",
       "      <td>0.545</td>\n",
       "      <td>17.175</td>\n",
       "      <td>2.50%</td>\n",
       "      <td>...</td>\n",
       "      <td>11.303</td>\n",
       "      <td>3.085</td>\n",
       "      <td>1.995</td>\n",
       "      <td>7.297</td>\n",
       "      <td>0.065</td>\n",
       "      <td>0.0</td>\n",
       "      <td>0.006</td>\n",
       "      <td>0.000</td>\n",
       "      <td>0.226</td>\n",
       "      <td>1.317</td>\n",
       "    </tr>\n",
       "    <tr>\n",
       "      <th>3</th>\n",
       "      <td>2010/01/31</td>\n",
       "      <td>Energy</td>\n",
       "      <td>222</td>\n",
       "      <td>-0.021246</td>\n",
       "      <td>-0.045400</td>\n",
       "      <td>0.000</td>\n",
       "      <td>0.196</td>\n",
       "      <td>0.748</td>\n",
       "      <td>8.635</td>\n",
       "      <td>1.22%</td>\n",
       "      <td>...</td>\n",
       "      <td>5.456</td>\n",
       "      <td>0.973</td>\n",
       "      <td>0.518</td>\n",
       "      <td>4.166</td>\n",
       "      <td>0.135</td>\n",
       "      <td>0.0</td>\n",
       "      <td>0.000</td>\n",
       "      <td>0.000</td>\n",
       "      <td>-0.165</td>\n",
       "      <td>-0.078</td>\n",
       "    </tr>\n",
       "    <tr>\n",
       "      <th>4</th>\n",
       "      <td>2010/01/31</td>\n",
       "      <td>Financials</td>\n",
       "      <td>785</td>\n",
       "      <td>0.050111</td>\n",
       "      <td>0.002939</td>\n",
       "      <td>0.538</td>\n",
       "      <td>0.339</td>\n",
       "      <td>1.192</td>\n",
       "      <td>10.549</td>\n",
       "      <td>2.80%</td>\n",
       "      <td>...</td>\n",
       "      <td>0.092</td>\n",
       "      <td>0.682</td>\n",
       "      <td>0.358</td>\n",
       "      <td>2.632</td>\n",
       "      <td>0.014</td>\n",
       "      <td>0.0</td>\n",
       "      <td>0.007</td>\n",
       "      <td>0.222</td>\n",
       "      <td>-0.049</td>\n",
       "      <td>0.705</td>\n",
       "    </tr>\n",
       "  </tbody>\n",
       "</table>\n",
       "<p>5 rows × 76 columns</p>\n",
       "</div>"
      ],
      "text/plain": [
       "  public_date                 gicdesc  NFIRM  indret_ew  indret_vw  \\\n",
       "0  2010/01/31  Communication Services     52  -0.071969  -0.080034   \n",
       "1  2010/01/31  Consumer Discretionary    606  -0.000817  -0.025503   \n",
       "2  2010/01/31        Consumer Staples    173  -0.018075  -0.010126   \n",
       "3  2010/01/31                  Energy    222  -0.021246  -0.045400   \n",
       "4  2010/01/31              Financials    785   0.050111   0.002939   \n",
       "\n",
       "   dpr_Median  PEG_trailing_Median  bm_Median  CAPEI_Median DIVYIELD_Median  \\\n",
       "0       0.227                0.454      0.566        11.587           7.25%   \n",
       "1       0.000                0.220      0.630        11.491           2.14%   \n",
       "2       0.161                0.675      0.545        17.175           2.50%   \n",
       "3       0.000                0.196      0.748         8.635           1.22%   \n",
       "4       0.538                0.339      1.192        10.549           2.80%   \n",
       "\n",
       "   ...  rect_turn_Median  sale_equity_Median  sale_invcap_Median  \\\n",
       "0  ...             9.905               1.641               0.749   \n",
       "1  ...            10.439               2.652               1.858   \n",
       "2  ...            11.303               3.085               1.995   \n",
       "3  ...             5.456               0.973               0.518   \n",
       "4  ...             0.092               0.682               0.358   \n",
       "\n",
       "   sale_nwc_Median  accrual_Median  rd_sale_Median  adv_sale_Median  \\\n",
       "0            8.094           0.101             0.0            0.003   \n",
       "1            5.224           0.112             0.0            0.014   \n",
       "2            7.297           0.065             0.0            0.006   \n",
       "3            4.166           0.135             0.0            0.000   \n",
       "4            2.632           0.014             0.0            0.007   \n",
       "\n",
       "   staff_sale_Median  PEG_1yrforward_Median  PEG_ltgforward_Median  \n",
       "0              0.000                 -0.042                  1.118  \n",
       "1              0.000                 -0.041                  0.835  \n",
       "2              0.000                  0.226                  1.317  \n",
       "3              0.000                 -0.165                 -0.078  \n",
       "4              0.222                 -0.049                  0.705  \n",
       "\n",
       "[5 rows x 76 columns]"
      ]
     },
     "execution_count": 13,
     "metadata": {},
     "output_type": "execute_result"
    }
   ],
   "source": [
    "# loading data\n",
    "financial_ratios_industry_level = pd.read_csv('data/FinancialRatios_IndustryLevel.csv')\n",
    "\n",
    "# printing the dimensions of the data frame financial_ratios_industry_level\n",
    "print('The data frame financial_ratios_industry_level consists of ' + \\\n",
    "      str(financial_ratios_industry_level.shape[0]) + ' rows and ' + \\\n",
    "      str(financial_ratios_industry_level.shape[1]) + ' columns.')\n",
    "\n",
    "# assess null values of the data frame financial_ratios_industry_level\n",
    "financial_ratios_industry_level_nans_share = financial_ratios_industry_level.isna().sum().sum() / \\\n",
    "    (financial_ratios_industry_level.shape[0] * financial_ratios_industry_level.shape[1])\n",
    "print('The data frame financial_ratios_industry_level contains about ' + \\\n",
    "      str(round(financial_ratios_industry_level_nans_share * 100, 2)) + '% null values.')\n",
    "\n",
    "# displaying the first few rows of the data frame financial_ratios_industry_level\n",
    "financial_ratios_industry_level.head()"
   ]
  },
  {
   "cell_type": "markdown",
   "metadata": {},
   "source": [
    "# 3 Merging the Data Frames"
   ]
  },
  {
   "cell_type": "markdown",
   "metadata": {},
   "source": [
    "## 3.1 Preparations for Merging"
   ]
  },
  {
   "cell_type": "markdown",
   "metadata": {},
   "source": [
    "### 3.1.1 Turning Dates into DateTime Objects"
   ]
  },
  {
   "cell_type": "code",
   "execution_count": 14,
   "metadata": {},
   "outputs": [],
   "source": [
    "SP500_company_list['date'] = pd.to_datetime(\\\n",
    "    SP500_company_list['date'], format='%d/%m/%Y')\n",
    "\n",
    "financial_ratios_firm_level['adate'] = pd.to_datetime(\\\n",
    "    financial_ratios_firm_level['adate'], format='%Y/%m/%d')\n",
    "\n",
    "financial_ratios_firm_level['qdate'] = pd.to_datetime(\\\n",
    "    financial_ratios_firm_level['qdate'], format='%Y/%m/%d')\n",
    "\n",
    "financial_ratios_firm_level['public_date'] = pd.to_datetime(\\\n",
    "    financial_ratios_firm_level['public_date'], format='%Y/%m/%d')\n",
    "\n",
    "long_term_credit_rating['datadate'] = pd.to_datetime(\\\n",
    "    long_term_credit_rating['datadate'], format='%Y/%m/%d')\n",
    "\n",
    "US_treasury_and_inflation['caldt'] = pd.to_datetime(\\\n",
    "    US_treasury_and_inflation['caldt'], format='%Y%m%d')\n",
    "\n",
    "financial_ratios_industry_level['public_date'] = pd.to_datetime(\\\n",
    "    financial_ratios_industry_level['public_date'], format='%Y/%m/%d')"
   ]
  },
  {
   "cell_type": "markdown",
   "metadata": {},
   "source": [
    "### 3.1.2 Removing Rows outside Date Range [2010.01.01, 2017.01.31]"
   ]
  },
  {
   "cell_type": "code",
   "execution_count": 15,
   "metadata": {},
   "outputs": [],
   "source": [
    "# creating timestamps indicating the start and end of the interval\n",
    "start_date, end_date = pd.Timestamp('2010-1-1'), pd.Timestamp('2017-1-31')\n",
    "\n",
    "financial_ratios_firm_level_mask = (financial_ratios_firm_level['public_date'] >= \\\n",
    "    start_date) & (financial_ratios_firm_level['public_date'] <= end_date)\n",
    "\n",
    "long_term_credit_rating_mask = (long_term_credit_rating['datadate'] >= \\\n",
    "    start_date) & (long_term_credit_rating['datadate'] <= end_date)\n",
    "\n",
    "# remove the observations outside of the date range by applying the masks\n",
    "financial_ratios_firm_level = financial_ratios_firm_level.loc[financial_ratios_firm_level_mask]\n",
    "long_term_credit_rating = long_term_credit_rating.loc[long_term_credit_rating_mask]"
   ]
  },
  {
   "cell_type": "markdown",
   "metadata": {},
   "source": [
    "### 3.1.3 Preparing Industry Data on Sectors for Merging"
   ]
  },
  {
   "cell_type": "code",
   "execution_count": 16,
   "metadata": {
    "scrolled": true
   },
   "outputs": [
    {
     "name": "stdout",
     "output_type": "stream",
     "text": [
      "The sector codes in long_term_credit_rating are the following:\n",
      "[25.0, 20.0, 45.0, 35.0, 10.0, 40.0, 55.0, 50.0, 60.0, nan, 15.0, 30.0]\n",
      "\n",
      "The sector codes in financial_ratios_industry_level are the following:\n",
      "Communication Services, Consumer Discretionary, Consumer Staples, Energy, Financials, Health Care, Industrials, Information Technology, Materials, Utilities, Real Estate\n"
     ]
    }
   ],
   "source": [
    "# looking at sector-variable values\n",
    "print('The sector codes in long_term_credit_rating are the following:\\n' + \\\n",
    "      str(long_term_credit_rating['gsector'].unique().tolist()) + '\\n')\n",
    "print('The sector codes in financial_ratios_industry_level are the following:\\n' + \\\n",
    "      ', '.join(financial_ratios_industry_level['gicdesc'].unique().tolist()))"
   ]
  },
  {
   "cell_type": "code",
   "execution_count": 17,
   "metadata": {},
   "outputs": [],
   "source": [
    "# substituting the numerical code with the desctiption.\n",
    "long_term_credit_rating['gsector'] = \\\n",
    "long_term_credit_rating['gsector'].map({10.: 'Energy', \\\n",
    "                                        15.: 'Materials', \\\n",
    "                                        20.: 'Industrials', \\\n",
    "                                        25.: 'Consumer Discretionary', \\\n",
    "                                        30.: 'Consumer Staples', \\\n",
    "                                        35.: 'Health Care', \\\n",
    "                                        40.: 'Financials', \\\n",
    "                                        45.: 'Information Technology', \\\n",
    "                                        50.: 'Communication Services', \\\n",
    "                                        55.: 'Utilities', \\\n",
    "                                        60.: 'Real Estate'})"
   ]
  },
  {
   "cell_type": "markdown",
   "metadata": {},
   "source": [
    "## 3.2 Merging the Data Frames"
   ]
  },
  {
   "cell_type": "code",
   "execution_count": 18,
   "metadata": {},
   "outputs": [],
   "source": [
    "# creating a column with the CUSIP8 variable, since this CUSIP variable consists of 9 digits.\n",
    "long_term_credit_rating['CUSIP8'] = [str(i)[:-1] for i in long_term_credit_rating['cusip']]\n",
    "\n",
    "# Merging CRSP_monthly_stock with long_term_credit_rating.\n",
    "stock_and_rating = pd.merge(left=CRSP_monthly_stock, right=long_term_credit_rating, \\\n",
    "                   left_on=['date', 'CUSIP'], right_on=['datadate', 'CUSIP8'], how='inner')\n",
    "\n",
    "# merging financial_ratios_firm_level with stock_and_rating\n",
    "stock_rating_firm_ratios = pd.merge(left=stock_and_rating, right=financial_ratios_firm_level, \\\n",
    "                              left_on=['PERMNO', 'date'], right_on=['permno', 'public_date'], how='inner')\n",
    "\n",
    "# merging financial_ratios_industry_level with stock_rating_firm_ratios\n",
    "stock_rating_ratios = pd.merge(left=stock_rating_firm_ratios, right=financial_ratios_industry_level, \\\n",
    "                   left_on=['date', 'gsector'], right_on=['public_date', 'gicdesc'], how='inner')\n",
    "\n",
    "# merging US_treasury_and_inflation data with stock_rating_ratios\n",
    "all_data = pd.merge(left=stock_rating_ratios, right=US_treasury_and_inflation, \\\n",
    "                    left_on='date', right_on='caldt', how='inner')"
   ]
  },
  {
   "cell_type": "markdown",
   "metadata": {},
   "source": [
    "## 3.3 Assess, Index and Sort the Data"
   ]
  },
  {
   "cell_type": "code",
   "execution_count": 19,
   "metadata": {},
   "outputs": [
    {
     "name": "stdout",
     "output_type": "stream",
     "text": [
      "The data frame consists of 166419 rows and 199 columns.\n",
      "The data contains about 6.16% null values.\n"
     ]
    }
   ],
   "source": [
    "# creating a working copy\n",
    "data = all_data.copy()\n",
    "\n",
    "# printing the dimensions of the data frame\n",
    "print('The data frame consists of ' + \\\n",
    "      str(data.shape[0]) + ' rows and ' + \\\n",
    "      str(data.shape[1]) + ' columns.')\n",
    "\n",
    "# printing the share of null values\n",
    "data_nans_share = data.isna().sum().sum() / (data.shape[0] * data.shape[1])\n",
    "print('The data contains about ' + str(round(data_nans_share * 100, 2)) + '% null values.')"
   ]
  },
  {
   "cell_type": "code",
   "execution_count": 20,
   "metadata": {},
   "outputs": [
    {
     "name": "stdout",
     "output_type": "stream",
     "text": [
      "The data frame is lexsorted on the multiindex.\n"
     ]
    }
   ],
   "source": [
    "# set multiindex\n",
    "data.set_index(['PERMNO', 'date'], inplace=True)\n",
    "\n",
    "# sort by multiindex\n",
    "data.sort_index(inplace=True)\n",
    "\n",
    "# check if data is lexsorted\n",
    "print('The data frame is lexsorted on the multiindex.') if data.index.is_lexsorted() else ''"
   ]
  },
  {
   "cell_type": "markdown",
   "metadata": {},
   "source": [
    "# 4 Feature Engineering"
   ]
  },
  {
   "cell_type": "markdown",
   "metadata": {},
   "source": [
    "## 4.1 Adjusting CRSP Stock Data"
   ]
  },
  {
   "cell_type": "code",
   "execution_count": 21,
   "metadata": {},
   "outputs": [
    {
     "data": {
      "text/html": [
       "<div>\n",
       "<style scoped>\n",
       "    .dataframe tbody tr th:only-of-type {\n",
       "        vertical-align: middle;\n",
       "    }\n",
       "\n",
       "    .dataframe tbody tr th {\n",
       "        vertical-align: top;\n",
       "    }\n",
       "\n",
       "    .dataframe thead th {\n",
       "        text-align: right;\n",
       "    }\n",
       "</style>\n",
       "<table border=\"1\" class=\"dataframe\">\n",
       "  <thead>\n",
       "    <tr style=\"text-align: right;\">\n",
       "      <th></th>\n",
       "      <th>PRC_adj</th>\n",
       "      <th>SHROUT_adj</th>\n",
       "      <th>marketcap</th>\n",
       "    </tr>\n",
       "  </thead>\n",
       "  <tbody>\n",
       "    <tr>\n",
       "      <th>count</th>\n",
       "      <td>1.660690e+05</td>\n",
       "      <td>1.664090e+05</td>\n",
       "      <td>1.660220e+05</td>\n",
       "    </tr>\n",
       "    <tr>\n",
       "      <th>mean</th>\n",
       "      <td>inf</td>\n",
       "      <td>1.463223e+08</td>\n",
       "      <td>5.761840e+09</td>\n",
       "    </tr>\n",
       "    <tr>\n",
       "      <th>std</th>\n",
       "      <td>NaN</td>\n",
       "      <td>5.273852e+08</td>\n",
       "      <td>2.318586e+10</td>\n",
       "    </tr>\n",
       "    <tr>\n",
       "      <th>min</th>\n",
       "      <td>2.000000e-02</td>\n",
       "      <td>0.000000e+00</td>\n",
       "      <td>6.223581e+05</td>\n",
       "    </tr>\n",
       "    <tr>\n",
       "      <th>25%</th>\n",
       "      <td>8.050008e+00</td>\n",
       "      <td>1.444700e+07</td>\n",
       "      <td>1.338296e+08</td>\n",
       "    </tr>\n",
       "    <tr>\n",
       "      <th>50%</th>\n",
       "      <td>1.824000e+01</td>\n",
       "      <td>3.736300e+07</td>\n",
       "      <td>6.286762e+08</td>\n",
       "    </tr>\n",
       "    <tr>\n",
       "      <th>75%</th>\n",
       "      <td>3.761000e+01</td>\n",
       "      <td>9.503400e+07</td>\n",
       "      <td>2.746730e+09</td>\n",
       "    </tr>\n",
       "    <tr>\n",
       "      <th>max</th>\n",
       "      <td>inf</td>\n",
       "      <td>1.082238e+10</td>\n",
       "      <td>7.247734e+11</td>\n",
       "    </tr>\n",
       "  </tbody>\n",
       "</table>\n",
       "</div>"
      ],
      "text/plain": [
       "            PRC_adj    SHROUT_adj     marketcap\n",
       "count  1.660690e+05  1.664090e+05  1.660220e+05\n",
       "mean            inf  1.463223e+08  5.761840e+09\n",
       "std             NaN  5.273852e+08  2.318586e+10\n",
       "min    2.000000e-02  0.000000e+00  6.223581e+05\n",
       "25%    8.050008e+00  1.444700e+07  1.338296e+08\n",
       "50%    1.824000e+01  3.736300e+07  6.286762e+08\n",
       "75%    3.761000e+01  9.503400e+07  2.746730e+09\n",
       "max             inf  1.082238e+10  7.247734e+11"
      ]
     },
     "execution_count": 21,
     "metadata": {},
     "output_type": "execute_result"
    }
   ],
   "source": [
    "# take the absolute value of all prices (i.e. accept approximated prices)\n",
    "data['PRC'] = abs(data['PRC'])\n",
    "\n",
    "# adjusting prices\n",
    "data['PRC_adj'] = data['PRC'] / data['CFACPR']\n",
    "\n",
    "# number of outstanding shares is given in thousands. make units of one\n",
    "data['SHROUT'] = data['SHROUT'] * 1000\n",
    "\n",
    "# adjusting shares outstanding\n",
    "data['SHROUT_adj'] = data['SHROUT'] * data['CFACSHR']\n",
    "\n",
    "# create market cap variable\n",
    "data['marketcap'] = data['PRC_adj'] * data['SHROUT_adj']\n",
    "\n",
    "# leaving only adjusted price and shares outstanding, others are not needed anymore\n",
    "data.drop(columns=['PRC', 'SHROUT', 'CFACPR', 'CFACSHR'], inplace=True)\n",
    "\n",
    "# have a look at the created variables\n",
    "data.loc[:,['PRC_adj', 'SHROUT_adj', 'marketcap']].describe()"
   ]
  },
  {
   "cell_type": "markdown",
   "metadata": {},
   "source": [
    "## 4.2 Deleting useless and redundant Variables"
   ]
  },
  {
   "cell_type": "code",
   "execution_count": 22,
   "metadata": {},
   "outputs": [],
   "source": [
    "# dropping redundant date and comanpy variables\n",
    "data.drop(columns=['ggroup', 'gind', 'CUSIP8', 'permno', 'adate', 'qdate', \\\n",
    "                      'public_date_x', 'datadate', 'cusip'], inplace=True)"
   ]
  },
  {
   "cell_type": "code",
   "execution_count": 23,
   "metadata": {},
   "outputs": [],
   "source": [
    "# checking if column 'public_date_y' equals column 'caldt'\n",
    "if data.caldt.equals(data.public_date_y):\n",
    "    # dropping column 'public_date_y' since it is redundant\n",
    "    data.drop(columns=['public_date_y'], inplace=True)\n",
    "\n",
    "# dropping column 'caldt' since it is redundant (date is in multiindex)\n",
    "data.drop(columns=['caldt'], inplace=True)\n",
    "\n",
    "# checking if column 'gicdesc' equals column 'gsector'\n",
    "if data.gsector.equals(data.gicdesc):\n",
    "    # dropping column 'gicdesc' since it is redundant\n",
    "    data.drop(columns=['gicdesc'], inplace=True)\n",
    "    \n",
    "# dropping redundant identifiers 'PERMCO' and 'gvkey'\n",
    "data.drop(columns=['PERMCO', 'gvkey'], inplace=True)\n",
    "\n",
    "# dropping 'spcsrc' since it is an aggregate variable\n",
    "data.drop(columns=['spcsrc'], inplace=True)"
   ]
  },
  {
   "cell_type": "markdown",
   "metadata": {},
   "source": [
    "## 4.3 Dealing with Categorical non-numerical Variables"
   ]
  },
  {
   "cell_type": "code",
   "execution_count": 24,
   "metadata": {},
   "outputs": [
    {
     "name": "stdout",
     "output_type": "stream",
     "text": [
      "The following variables are non-numeric:\n",
      "SICCD, PRIMEXCH, TRDSTAT, HSICCD, CUSIP, in_sp500, splticrm, addzip, city, county, gsector, idbflag, loc, state, ipodate, DIVYIELD, DIVYIELD_Median\n"
     ]
    }
   ],
   "source": [
    "# look at all non-numeric variables\n",
    "print('The following variables are non-numeric:\\n' + \\\n",
    "', '.join(data.select_dtypes(exclude=['int64', 'float64']).columns.tolist()))"
   ]
  },
  {
   "cell_type": "code",
   "execution_count": 25,
   "metadata": {},
   "outputs": [],
   "source": [
    "# create data frame for which categorical variables are converted to dummy variables\n",
    "data_w_dummies = data.copy()\n",
    "\n",
    "# map Ture / False to 1 / 0 for variable 'in_sp500'\n",
    "data_w_dummies.in_sp500 = data_w_dummies.in_sp500.astype(int)\n",
    "\n",
    "# convert variable 'DIVYIELD_Median' to float\n",
    "data_w_dummies.DIVYIELD_Median = list(map(float, [i[:-1] for i in data_w_dummies.DIVYIELD_Median]))\n",
    "\n",
    "# rename 'loc' variable to 'locat' to avoid conflict with pandas .loc[]\n",
    "data_w_dummies = data_w_dummies.rename(columns={\"loc\": \"locat\"});"
   ]
  },
  {
   "cell_type": "code",
   "execution_count": 26,
   "metadata": {},
   "outputs": [
    {
     "name": "stdout",
     "output_type": "stream",
     "text": [
      "Variable SICCD has 787 categories.\n",
      "Variable PRIMEXCH has 6 categories.\n",
      "Variable TRDSTAT has 4 categories.\n",
      "Variable HSICCD has 719 categories.\n",
      "Variable CUSIP has 4436 categories.\n",
      "Variable in_sp500 has 2 categories.\n",
      "Variable splticrm has 23 categories.\n",
      "Variable addzip has 2297 categories.\n",
      "Variable city has 1251 categories.\n",
      "Variable county has 2 categories.\n",
      "Variable gsector has 11 categories.\n",
      "Variable idbflag has 2 categories.\n",
      "Variable locat has 18 categories.\n",
      "Variable state has 57 categories.\n",
      "Variable ipodate has 1797 categories.\n",
      "Variable DIVYIELD has 1988 categories.\n"
     ]
    }
   ],
   "source": [
    "# check each non numeric variable for how many categories there are\n",
    "non_numerics = data_w_dummies.select_dtypes(exclude=['int64', 'float64', 'uint8']).columns.values\n",
    "non_numerics_dict = [(variable, len(list(Counter(data_w_dummies[variable]))))\\\n",
    "                                 for variable in non_numerics]\n",
    "for variable in non_numerics_dict:\n",
    "    print('Variable ' + variable[0] + ' has ' + str(variable[1]) + ' categories.')"
   ]
  },
  {
   "cell_type": "code",
   "execution_count": 27,
   "metadata": {},
   "outputs": [],
   "source": [
    "# create dummy variables for variables with less than 12 categories, drop all\n",
    "non_numerics_to_drop = list(non_numerics.tolist())\n",
    "non_numerics_to_drop.remove('splticrm')\n",
    "if 'in_sp500' in non_numerics_to_drop:\n",
    "    non_numerics_to_drop.remove('in_sp500')\n",
    "non_numerics_to_drop_dict = [(variable, len(list(Counter(data_w_dummies[variable]))))\\\n",
    "                                       for variable in non_numerics_to_drop]\n",
    "\n",
    "for variable in non_numerics_to_drop_dict:\n",
    "    if variable[1] < 12:\n",
    "        dummies = pd.get_dummies(data_w_dummies[variable[0]])\n",
    "        data_w_dummies[dummies.columns.values.tolist()] = dummies\n",
    "    data_w_dummies.drop(columns=[variable[0]], inplace=True)"
   ]
  },
  {
   "cell_type": "code",
   "execution_count": 28,
   "metadata": {},
   "outputs": [
    {
     "name": "stdout",
     "output_type": "stream",
     "text": [
      "remaining non-numerical variables: ['in_sp500' 'splticrm']\n"
     ]
    }
   ],
   "source": [
    "# ensure that 'splticrm' is the only remaining non-numerical variable\n",
    "print('remaining non-numerical variables: ' +\\\n",
    "      str(data_w_dummies.select_dtypes(exclude=['int64', 'float64', 'uint8']).columns.values))"
   ]
  },
  {
   "cell_type": "markdown",
   "metadata": {},
   "source": [
    "## 4.4 Adding Lags and Growth Rates for Certain Variables"
   ]
  },
  {
   "cell_type": "code",
   "execution_count": 29,
   "metadata": {},
   "outputs": [],
   "source": [
    "# gpm = 12MLAG (Alternatives discussed: 1MLAG, 3MLAG, 12MCHANGE)\n",
    "data_w_dummies['gpm_1MLag'] = data_w_dummies.groupby(level='PERMNO')['gpm'].shift(1)\n",
    "data_w_dummies['gpm_3MLag'] = data_w_dummies.groupby(level='PERMNO')['gpm'].shift(3)\n",
    "data_w_dummies['gpm_12MChange'] = data_w_dummies['gpm'] / \\\n",
    "    data_w_dummies.groupby(level='PERMNO')['gpm'].shift(12) - 1 \n",
    "\n",
    "# intcov_ratio = 1MLAG (Alternatives discussed: 3MCHANGE, 3MLAG)\n",
    "data_w_dummies['intcov_ratio_1MLag'] = data_w_dummies.groupby(level='PERMNO')['intcov_ratio'].shift(1)\n",
    "data_w_dummies['intcov_ratio_3MLag'] = data_w_dummies.groupby(level='PERMNO')['intcov_ratio'].shift(3)\n",
    "data_w_dummies['intcov_ratio_3MChange'] = data_w_dummies['intcov_ratio'] / \\\n",
    "    data_w_dummies.groupby(level='PERMNO')['intcov_ratio'].shift(3) - 1 \n",
    "\n",
    "# at_turn = 12MCHANGE \n",
    "data_w_dummies['at_turn_12MChange'] = data_w_dummies['at_turn'] / \\\n",
    "    data_w_dummies.groupby(level='PERMNO')['at_turn'].shift(12) - 1 \n",
    "\n",
    "# cash_lt = 3MCHANGE (Alternative discussed: 3MLAG)\n",
    "data_w_dummies['cash_lt_3MLag'] = data_w_dummies.groupby(level='PERMNO')['cash_lt'].shift(3)\n",
    "data_w_dummies['cash_lt_3MChange'] = data_w_dummies['cash_lt'] / \\\n",
    "    data_w_dummies.groupby(level='PERMNO')['cash_lt'].shift(3) - 1 \n",
    "\n",
    "# debt_assets = 12MCHANGE\n",
    "data_w_dummies['debt_assets_12MChange'] = data_w_dummies['debt_assets'] / \\\n",
    "    data_w_dummies.groupby(level='PERMNO')['debt_assets'].shift(12) - 1 \n",
    "\n",
    "# debt_capital = 3MCHANGE\n",
    "data_w_dummies['debt_capital_3MChange'] = data_w_dummies['debt_capital'] / \\\n",
    "    data_w_dummies.groupby(level='PERMNO')['debt_capital'].shift(3) - 1 \n",
    "\n",
    "# int_totdebt = 3MCHANGE (Alternative discussed: 3MLAG)\n",
    "data_w_dummies['int_totdebt_3MChange'] = data_w_dummies['int_totdebt'] / \\\n",
    "    data_w_dummies.groupby(level='PERMNO')['int_totdebt'].shift(3) - 1 \n",
    "\n",
    "# cash_debt = 1MCHANGE\n",
    "data_w_dummies['cash_debt_1MChange'] = data_w_dummies['cash_debt'] / \\\n",
    "    data_w_dummies.groupby(level='PERMNO')['cash_debt'].shift(1) - 1 \n",
    "\n",
    "# dltt_be = 12MCHANGE\n",
    "data_w_dummies['dltt_be_12MChange'] = data_w_dummies['dltt_be'] / \\\n",
    "    data_w_dummies.groupby(level='PERMNO')['dltt_be'].shift(12) - 1 \n",
    "\n",
    "# debt_ebitda = 3MCHANGE\n",
    "data_w_dummies['debt_ebitda_3MChange'] = data_w_dummies['debt_ebitda'] / \\\n",
    "    data_w_dummies.groupby(level='PERMNO')['debt_ebitda'].shift(3) - 1 \n",
    "\n",
    "# int_debt = 3MCHANGE (Alternative discussed: 3MLAG)\n",
    "data_w_dummies['int_debt_3MChange'] = data_w_dummies['int_debt'] / \\\n",
    "    data_w_dummies.groupby(level='PERMNO')['int_debt'].shift(3) - 1 \n",
    "\n",
    "# totdebt_invcap = 12MCHANGE\n",
    "data_w_dummies['totdebt_invcap_12MChange'] = data_w_dummies['totdebt_invcap'] / \\\n",
    "    data_w_dummies.groupby(level='PERMNO')['totdebt_invcap'].shift(12) - 1 \n",
    "\n",
    "# capital_ratio = 12MCHANGE\n",
    "data_w_dummies['capital_ratio_12MChange'] = data_w_dummies['capital_ratio'] / \\\n",
    "    data_w_dummies.groupby(level='PERMNO')['capital_ratio'].shift(12) - 1"
   ]
  },
  {
   "cell_type": "markdown",
   "metadata": {},
   "source": [
    "# 5 Handling Null Values"
   ]
  },
  {
   "cell_type": "code",
   "execution_count": 30,
   "metadata": {},
   "outputs": [],
   "source": [
    "# create a data frame for the models, without any non-numeric variables except splticrm\n",
    "data_w_nulls = data_w_dummies.copy()\n",
    "\n",
    "# replace infinite values with nans\n",
    "data_w_nulls.replace([np.inf, -np.inf], np.nan, inplace=True)\n",
    "\n",
    "# deleting all observations that don't have a 'splticrm' value.\n",
    "data_w_nulls = data_w_nulls.dropna(subset=['splticrm'])"
   ]
  },
  {
   "cell_type": "markdown",
   "metadata": {},
   "source": [
    "## 5.1 Interpolating Null Values"
   ]
  },
  {
   "cell_type": "code",
   "execution_count": 31,
   "metadata": {},
   "outputs": [],
   "source": [
    "# measuring how many null values there are before interpolating\n",
    "null_values_before_interpolating = data_w_nulls.isnull().sum().sum()\n",
    "\n",
    "# iterate over all variables for each company and linearly interpolate null values\n",
    "for company in set([entry[0] for entry in data_w_nulls.index.tolist()]):\n",
    "    for column in data_w_nulls:\n",
    "        if data_w_nulls.xs(company, level='PERMNO')[column].isnull().values.any():\n",
    "            data_w_nulls.xs(company, level='PERMNO')[column] = \\\n",
    "            data_w_nulls.xs(company, level='PERMNO')[column].interpolate()\n",
    "\n",
    "# measuring how many null values there are after interpolating\n",
    "null_values_after_interpolating = data_w_nulls.isnull().sum().sum()"
   ]
  },
  {
   "cell_type": "code",
   "execution_count": 32,
   "metadata": {},
   "outputs": [
    {
     "name": "stdout",
     "output_type": "stream",
     "text": [
      "There are 560640 null values in total before interpolating.\n",
      "There are 496888 null values in total after interpolating.\n",
      "The linear interpolation thus only removed ca. 11.4 % of the null values.\n"
     ]
    }
   ],
   "source": [
    "# print numbers of null variables in the dataframe before and after interpolating\n",
    "print('There are ' + str(null_values_before_interpolating) + \\\n",
    "      ' null values in total before interpolating.')\n",
    "print('There are ' + str(null_values_after_interpolating) + \\\n",
    "      ' null values in total after interpolating.')\n",
    "print('The linear interpolation thus only removed ca. ' + \\\n",
    "      str(round((1 - null_values_after_interpolating / null_values_before_interpolating) \\\n",
    "                * 100, 1)) + ' % of the null values.')"
   ]
  },
  {
   "cell_type": "markdown",
   "metadata": {},
   "source": [
    "## 5.2 Backward- and Forward-Filling Null Values"
   ]
  },
  {
   "cell_type": "code",
   "execution_count": 33,
   "metadata": {},
   "outputs": [],
   "source": [
    "# measuring how many null values there are before interpolating\n",
    "null_values_before_filling = data_w_nulls.isnull().sum().sum()\n",
    "\n",
    "# iterate over all variables for each company and linearly backward- and forward fill null values\n",
    "for company in set([entry[0] for entry in data_w_nulls.index.tolist()]):\n",
    "    if data_w_nulls.xs(company, level='PERMNO').isnull().values.any():\n",
    "        data_w_nulls.xs(company, level='PERMNO').fillna(method='bfill', inplace=True)\n",
    "        data_w_nulls.xs(company, level='PERMNO').fillna(method='ffill', inplace=True)\n",
    "null_values_after_filling = data_w_nulls.isnull().sum().sum()"
   ]
  },
  {
   "cell_type": "code",
   "execution_count": 34,
   "metadata": {},
   "outputs": [
    {
     "name": "stdout",
     "output_type": "stream",
     "text": [
      "There are 496888 null values in total before backward- and forward-filling.\n",
      "There are 351317 null values in total after backward- and forward-filling.\n",
      "The backward- and forward-filling thus removed ca. another 29.3 % of the null values.\n"
     ]
    }
   ],
   "source": [
    "# print numbers of null variables in the dataframe before and after backward- and forward-filling\n",
    "print('There are ' + str(null_values_before_filling) + \\\n",
    "      ' null values in total before backward- and forward-filling.')\n",
    "print('There are ' + str(null_values_after_filling) + \\\n",
    "      ' null values in total after backward- and forward-filling.')\n",
    "print('The backward- and forward-filling thus removed ca. another '\\\n",
    "      + str(round((1 - null_values_after_filling / null_values_before_filling) * 100, 1)) \\\n",
    "      + ' % of the null values.')"
   ]
  },
  {
   "cell_type": "markdown",
   "metadata": {},
   "source": [
    "##  5.3 Dealing with Variables"
   ]
  },
  {
   "cell_type": "markdown",
   "metadata": {},
   "source": [
    "### 5.3.1 Inspecting Variables on how many Companies have only Null Values for this Variable"
   ]
  },
  {
   "cell_type": "code",
   "execution_count": 35,
   "metadata": {},
   "outputs": [
    {
     "name": "stdout",
     "output_type": "stream",
     "text": [
      "The majority of null values (ca. 62.7%) come from variables for which certain companies only exhibit null values.\n"
     ]
    }
   ],
   "source": [
    "print('The majority of null values (ca. ' + \\\n",
    "      str(round((null_values_after_filling / null_values_before_interpolating) * 100, 1)) \\\n",
    "      + '%) come from variables for which certain companies only exhibit null values.')"
   ]
  },
  {
   "cell_type": "code",
   "execution_count": 36,
   "metadata": {},
   "outputs": [],
   "source": [
    "# check for each variable how many times a company has only null values for this variable\n",
    "var_w_comp_that_are_null = []\n",
    "for company in set([entry[0] for entry in data_w_nulls.index.tolist()]):\n",
    "    for column in data_w_nulls:\n",
    "        if data_w_nulls.xs(company, level='PERMNO')[column].isnull().values.any():\n",
    "            var_w_comp_that_are_null.append(column)"
   ]
  },
  {
   "cell_type": "code",
   "execution_count": 37,
   "metadata": {},
   "outputs": [
    {
     "name": "stdout",
     "output_type": "stream",
     "text": [
      "There are 206 variables in the dataset.\n",
      "Of those, 72 have at least one company with only null values.\n"
     ]
    }
   ],
   "source": [
    "# sort the variables descending by the number of companies with only null values\n",
    "var_w_comp_that_are_null_unique_sorted = Counter(var_w_comp_that_are_null).most_common()\n",
    "\n",
    "print('There are ' + str(data_w_nulls.shape[1]) + ' variables in the dataset.')\n",
    "print('Of those, ' + str(len(var_w_comp_that_are_null_unique_sorted)) \\\n",
    "      + ' have at least one company with only null values.')"
   ]
  },
  {
   "cell_type": "code",
   "execution_count": 38,
   "metadata": {},
   "outputs": [
    {
     "data": {
      "image/png": "[encoded data removed]",
      "text/plain": [
       "<Figure size 1152x576 with 1 Axes>"
      ]
     },
     "metadata": {},
     "output_type": "display_data"
    }
   ],
   "source": [
    "# plotting the variables for which at least one company exhibits only null values \n",
    "plt.figure(figsize=(16, 8));\n",
    "plt.bar([variable[0] for variable in var_w_comp_that_are_null_unique_sorted], \\\n",
    "        [variable[1] for variable in var_w_comp_that_are_null_unique_sorted]);\n",
    "plt.xticks(rotation=90);\n",
    "plt.title('Variables for which at least one company exhibits only null values ', fontsize=26);\n",
    "plt.xlabel('Variables', fontsize=14);\n",
    "plt.ylabel('Number of Companies with only Null Values for this Variable', fontsize=14);\n"
   ]
  },
  {
   "cell_type": "code",
   "execution_count": 39,
   "metadata": {},
   "outputs": [],
   "source": [
    "# create a data frame for which variables and companies will be dropped\n",
    "data_without_nulls = data_w_nulls.copy()"
   ]
  },
  {
   "cell_type": "markdown",
   "metadata": {},
   "source": [
    "### 5.3.2 Dropping the worst Variables"
   ]
  },
  {
   "cell_type": "code",
   "execution_count": 40,
   "metadata": {},
   "outputs": [
    {
     "name": "stdout",
     "output_type": "stream",
     "text": [
      "The selected threshold of 200 demands dropping the first (worst) 17 variables, which are:\n",
      " ['SPREAD', 'HSICMG', 'HSICIG', 'inv_turn', 'sale_nwc', 'PEG_trailing', 'dltt_be_12MChange', 'invt_act', 'pretret_noa', 'pretret_earnat', 'rect_act', 'curr_debt', 'profit_lct', 'ocf_lct', 'cash_ratio', 'quick_ratio', 'curr_ratio']\n"
     ]
    }
   ],
   "source": [
    "# select threshold for cutting variables depending on # companies that have null values for this variable (n)\n",
    "n = 200\n",
    "variables_threshold = 0\n",
    "for e in [i[1] for i in var_w_comp_that_are_null_unique_sorted]:\n",
    "    if e>=n:\n",
    "        variables_threshold += 1\n",
    "    else:\n",
    "        break\n",
    "\n",
    "# creating a list of the poorest variables\n",
    "poorest_variables = [i[0] for i in var_w_comp_that_are_null_unique_sorted][:variables_threshold]\n",
    "\n",
    "print('The selected threshold of ' + str(n) + ' demands dropping the first (worst) ' + \\\n",
    "      str(variables_threshold) + ' variables, which are:\\n ' + str(poorest_variables))\n",
    "\n",
    "# dropping the worst variables based on calculated threshold\n",
    "data_without_nulls.drop(columns=poorest_variables, inplace=True)"
   ]
  },
  {
   "cell_type": "markdown",
   "metadata": {},
   "source": [
    "## 5.4 Dealing with Observations"
   ]
  },
  {
   "cell_type": "markdown",
   "metadata": {},
   "source": [
    "### 5.4.1 Assessment of the Null Values for each Company"
   ]
  },
  {
   "cell_type": "code",
   "execution_count": 41,
   "metadata": {},
   "outputs": [],
   "source": [
    "companies_w_null_variables = []\n",
    "for company in set([entry[0] for entry in data_without_nulls.index.tolist()]):\n",
    "    for column in data_without_nulls:\n",
    "        if data_without_nulls.xs(company, level='PERMNO')[column].isnull().values.any():\n",
    "            companies_w_null_variables.append(company)\n",
    "\n",
    "# sort the companies descending by the number of variables with only null values\n",
    "companies_w_null_variables_unique_sorted = Counter(companies_w_null_variables).most_common()\n",
    "\n",
    "# check which of the companies with variables that are null are in the SP500:\n",
    "is_in_SP500 = []\n",
    "for tup in Counter(companies_w_null_variables).most_common():\n",
    "    is_in_SP500.append(tup[0] in list(SP500_company_list.PERMNO))"
   ]
  },
  {
   "cell_type": "code",
   "execution_count": 42,
   "metadata": {},
   "outputs": [
    {
     "name": "stdout",
     "output_type": "stream",
     "text": [
      "There are 1437 companies in the dataset.\n",
      "531 companies have at least one variable with only null values.\n",
      "85 of those companies are in the SP500.\n",
      "446 of those companies are not in the SP500.\n",
      "Thus there are 906 companies with no null variables left.\n",
      "Of those, 430 are in the SP500.\n"
     ]
    }
   ],
   "source": [
    "nr_of_companies = len(set([entry[0] for entry in data_without_nulls.index.tolist()]))\n",
    "print('There are ' + str(nr_of_companies) + ' companies in the dataset.')\n",
    "print(str(Counter(is_in_SP500)[True] + Counter(is_in_SP500)[False])\\\n",
    "      + ' companies have at least one variable with only null values.')\n",
    "\n",
    "print(str(Counter(is_in_SP500)[True]) + ' of those companies are in the SP500.')\n",
    "print(str(Counter(is_in_SP500)[False]) + ' of those companies are not in the SP500.')\n",
    "      \n",
    "print('Thus there are '\\\n",
    "      + str(nr_of_companies - len(companies_w_null_variables_unique_sorted))\\\n",
    "      + ' companies with no null variables left.')\n",
    "print('Of those, '\\\n",
    "      + str(len(list(SP500_company_list.PERMNO)) - Counter(is_in_SP500)[True])\\\n",
    "      + ' are in the SP500.')"
   ]
  },
  {
   "cell_type": "code",
   "execution_count": 43,
   "metadata": {},
   "outputs": [
    {
     "data": {
      "image/png": "[encoded data removed]",
      "text/plain": [
       "<Figure size 1152x576 with 1 Axes>"
      ]
     },
     "metadata": {},
     "output_type": "display_data"
    }
   ],
   "source": [
    "# plotting the companies for which most variables exhibit only null values\n",
    "plt.figure(figsize=(16, 8));\n",
    "plt.bar([str(company[0]) for company in companies_w_null_variables_unique_sorted], \\\n",
    "        [company[1] for company in companies_w_null_variables_unique_sorted]);\n",
    "plt.xticks([]);\n",
    "plt.title('Copanies for which at least one variable exhibits only null values ', fontsize=26);\n",
    "plt.xlabel('Companies', fontsize=14);\n",
    "plt.ylabel('Number of Variables with only Null Values for this Company', fontsize=14);"
   ]
  },
  {
   "cell_type": "markdown",
   "metadata": {},
   "source": [
    "### 5.4.2 Dropping Companies that still exhibit Null Values"
   ]
  },
  {
   "cell_type": "code",
   "execution_count": 44,
   "metadata": {},
   "outputs": [
    {
     "name": "stdout",
     "output_type": "stream",
     "text": [
      "There are no null values left in the DataFrame \"data_without_nulls\".\n"
     ]
    }
   ],
   "source": [
    "# create a list of the codes of the companies to drop\n",
    "companies_to_drop = [tup[0] for tup in companies_w_null_variables_unique_sorted]\n",
    "\n",
    "# drop those companies\n",
    "data_without_nulls.drop(index=companies_to_drop, level='PERMNO', inplace=True)\n",
    "\n",
    "# check if there are any null values left\n",
    "if data_without_nulls.isna().sum().sum() == 0:\n",
    "    print('There are no null values left in the DataFrame \"data_without_nulls\".')"
   ]
  },
  {
   "cell_type": "markdown",
   "metadata": {},
   "source": [
    "## 5.5 Comparing the cleaned with uncleaned Data Frame"
   ]
  },
  {
   "cell_type": "code",
   "execution_count": 45,
   "metadata": {},
   "outputs": [
    {
     "name": "stdout",
     "output_type": "stream",
     "text": [
      "26.45 % of the observations remain.\n",
      "91.75 % of the variables remain.\n"
     ]
    }
   ],
   "source": [
    "# copy dataframe\n",
    "cleaned_data = data_without_nulls.copy()\n",
    "\n",
    "# sort dataframe\n",
    "cleaned_data.sort_index(inplace=True)\n",
    "\n",
    "# comparison\n",
    "print(str(round(cleaned_data.shape[0] / data_w_dummies.shape[0] * 100, 2)) + \\\n",
    "      ' % of the observations remain.')\n",
    "print(str(round(cleaned_data.shape[1] / data_w_dummies.shape[1] * 100, 2)) + \\\n",
    "      ' % of the variables remain.')"
   ]
  },
  {
   "cell_type": "markdown",
   "metadata": {},
   "source": [
    "# 6 Transforming the Response Variable "
   ]
  },
  {
   "cell_type": "markdown",
   "metadata": {},
   "source": [
    "## 6.1 Exploring the Ratings Distribution"
   ]
  },
  {
   "cell_type": "code",
   "execution_count": 46,
   "metadata": {},
   "outputs": [
    {
     "name": "stdout",
     "output_type": "stream",
     "text": [
      "The least frequent ratings (rating, frequency) are:\n",
      "[('CCC-', 19), ('SD', 25), ('CC', 25), ('D', 25), ('CCC', 97), ('AA+', 132), ('AAA', 206)]\n"
     ]
    }
   ],
   "source": [
    "# determine the rating frequencies\n",
    "rating_frequencies = Counter(cleaned_data.splticrm).most_common()\n",
    "\n",
    "# display the five ratings with the fewest observations\n",
    "print('The least frequent ratings (rating, frequency) are:\\n' + \\\n",
    "      str(rating_frequencies[-7:][::-1]))"
   ]
  },
  {
   "cell_type": "markdown",
   "metadata": {},
   "source": [
    "## 6.2 Combine Categories with few Observations into one Category"
   ]
  },
  {
   "cell_type": "code",
   "execution_count": 47,
   "metadata": {},
   "outputs": [],
   "source": [
    "cleaned_data[\"splticrm\"] = ['CCC or lower' if r in ['CCC', 'CCC-', 'CC', 'SD', 'D'] \\\n",
    "                            else r for r in cleaned_data[\"splticrm\"].tolist()]"
   ]
  },
  {
   "cell_type": "markdown",
   "metadata": {},
   "source": [
    "## 6.3 Convert splticrm into an Ordered Categorical Variable"
   ]
  },
  {
   "cell_type": "code",
   "execution_count": 48,
   "metadata": {},
   "outputs": [],
   "source": [
    "# Order splticrm variable\n",
    "splticrm_categories = pd.CategoricalDtype(categories=[\n",
    "    'CCC or lower', 'CCC+', 'B-', 'B', 'B+', 'BB-', 'BB', 'BB+', 'BBB-', 'BBB', 'BBB+',\n",
    "    'A-', 'A', 'A+', 'AA-', 'AA', 'AA+', 'AAA'], ordered=True)\n",
    "\n",
    "# Transfer ordered categories to splticrm\n",
    "cleaned_data[\"splticrm\"] = cleaned_data[\"splticrm\"].astype(splticrm_categories)"
   ]
  },
  {
   "cell_type": "markdown",
   "metadata": {},
   "source": [
    "## 6.4 Check the Distribution of the splticrm Variable"
   ]
  },
  {
   "cell_type": "code",
   "execution_count": 49,
   "metadata": {},
   "outputs": [
    {
     "data": {
      "image/png": "[encoded data removed]",
      "text/plain": [
       "<Figure size 1152x576 with 1 Axes>"
      ]
     },
     "metadata": {},
     "output_type": "display_data"
    }
   ],
   "source": [
    "# determine the rating frequencies and sort them by category\n",
    "ratings_sorted_list = splticrm_categories.categories.tolist()[::-1]\n",
    "ratings_sort_order = dict(zip(ratings_sorted_list, list(range(len(ratings_sorted_list)))))\n",
    "rating_frequencies = Counter(cleaned_data.splticrm)\n",
    "ratings_to_sort = [list(r) for r in zip(list(rating_frequencies.keys()), \\\n",
    "                                        list(rating_frequencies.values()))]\n",
    "rating_frequencies = sorted(ratings_to_sort, key=lambda val: ratings_sort_order[val[0]])\n",
    "\n",
    "# plot distributions of ratings\n",
    "_ = plt.figure(figsize=(16, 8));\n",
    "_ = plt.bar([rating[0] for rating in rating_frequencies], \\\n",
    "            [frequency[1] for frequency in rating_frequencies]);\n",
    "_ = plt.title('Rating Frequencies', fontsize=26);\n",
    "_ = plt.xlabel('Rating', fontsize=14);\n",
    "_ = plt.ylabel('Frequency', fontsize=14);\n",
    "_ = plt.xticks(rotation=90);\n",
    "plt.show();"
   ]
  },
  {
   "cell_type": "code",
   "execution_count": 50,
   "metadata": {},
   "outputs": [],
   "source": [
    "# save cleaned data frame to file\n",
    "cleaned_data.to_csv('data/cleaned_data.csv')"
   ]
  },
  {
   "cell_type": "markdown",
   "metadata": {},
   "source": [
    "# 7 Principal Component Analysis for Dimensionality Reduction"
   ]
  },
  {
   "cell_type": "markdown",
   "metadata": {},
   "source": [
    "## 7.1 Applying PCA"
   ]
  },
  {
   "cell_type": "code",
   "execution_count": 51,
   "metadata": {},
   "outputs": [],
   "source": [
    "from sklearn.decomposition import PCA\n",
    "from sklearn.preprocessing import StandardScaler\n",
    "\n",
    "# select dataset you want to look at\n",
    "data_PCA = cleaned_data.copy()\n",
    "\n",
    "# take out variable 'splticrm'\n",
    "y = data_PCA['splticrm']\n",
    "data_PCA.drop(columns=['splticrm'], inplace=True)\n",
    "\n",
    "# scale data\n",
    "scaler = StandardScaler()\n",
    "data_PCA = scaler.fit_transform(data_PCA)\n",
    "\n",
    "# instantiate and fit pca object\n",
    "PCA = PCA()\n",
    "_ = PCA.fit(data_PCA);"
   ]
  },
  {
   "cell_type": "markdown",
   "metadata": {},
   "source": [
    "## 7.2 Plotting Explained Variance"
   ]
  },
  {
   "cell_type": "code",
   "execution_count": 52,
   "metadata": {},
   "outputs": [
    {
     "data": {
      "image/png": "[encoded data removed]",
      "text/plain": [
       "<Figure size 1152x576 with 1 Axes>"
      ]
     },
     "metadata": {},
     "output_type": "display_data"
    }
   ],
   "source": [
    "# creating list with names for principal components\n",
    "PC_names = ['PC' + str(i) for i in np.arange(1, data_PCA.shape[1] + 1)]\n",
    "\n",
    "# plot the first 10 PCs and the variance they explain\n",
    "_ = plt.figure(figsize=(16, 8));\n",
    "_ = plt.bar(PC_names[:100], PCA.explained_variance_[:100]);\n",
    "_ = plt.title('Explained Variance', fontsize=20);\n",
    "_ = plt.xlabel('Feature Name', fontsize=14);\n",
    "_ = plt.ylabel('Feature Importance', fontsize=14);\n",
    "_ = plt.xticks(rotation=90)\n",
    "plt.show();"
   ]
  },
  {
   "cell_type": "markdown",
   "metadata": {},
   "source": [
    "## 7.3 Cumulative and Total Explained Variance"
   ]
  },
  {
   "cell_type": "code",
   "execution_count": 53,
   "metadata": {},
   "outputs": [
    {
     "name": "stdout",
     "output_type": "stream",
     "text": [
      "Use up to PC67 to explain at least 95.0% of the total variance.\n",
      "The PCs up to PC67 will explain 95.16% of the total variance.\n"
     ]
    },
    {
     "data": {
      "image/png": "[encoded data removed]",
      "text/plain": [
       "<Figure size 2304x576 with 1 Axes>"
      ]
     },
     "metadata": {},
     "output_type": "display_data"
    }
   ],
   "source": [
    "# calculate cumulative and total explained variance\n",
    "cumulative_explained_variance = np.cumsum(PCA.explained_variance_)\n",
    "total_variance = cumulative_explained_variance[-1]\n",
    "adjusted_cumulative_explained_variance = cumulative_explained_variance / total_variance\n",
    "\n",
    "# specify threshold to look at\n",
    "PCA_threshold = 0.95\n",
    "\n",
    "# indices of first pc over specified threshold\n",
    "first_PC_over_threshold_indices = np.where(adjusted_cumulative_explained_variance \\\n",
    "                                    >= PCA_threshold)[0][0]\n",
    "first_PCs = 'PC' + str(first_PC_over_threshold_indices + 1)\n",
    "\n",
    "print('Use up to ' + str(first_PCs) + ' to explain at least ' + \\\n",
    "      str(PCA_threshold * 100) + '% of the total variance.')\n",
    "print('The PCs up to ' + str(first_PCs) + ' will explain ' + \\\n",
    "      str(round(adjusted_cumulative_explained_variance[first_PC_over_threshold_indices] * 100, 2)) + \\\n",
    "      '% of the total variance.')\n",
    "\n",
    "# plot cumulative explained variance of first 100 PCs\n",
    "plt.figure(figsize=(32,8));\n",
    "plt.bar(PC_names[:100], adjusted_cumulative_explained_variance[:100]);\n",
    "plt.xticks(rotation=90, fontsize=12);\n",
    "plt.title('Cumulative Explained Variance', fontsize=20);\n",
    "plt.xlabel('Principal Component', fontsize=14);\n",
    "plt.ylabel('Share of Explained Variance', fontsize=14);\n",
    "plt.axhline(PCA_threshold, color='red');\n",
    "plt.axvline(first_PCs, color='red');"
   ]
  },
  {
   "cell_type": "markdown",
   "metadata": {},
   "source": [
    "# 8 Determining Feature Importances"
   ]
  },
  {
   "cell_type": "markdown",
   "metadata": {},
   "source": [
    "## 8.1 Exploring Features with only Unique Entries"
   ]
  },
  {
   "cell_type": "code",
   "execution_count": 54,
   "metadata": {},
   "outputs": [
    {
     "name": "stdout",
     "output_type": "stream",
     "text": [
      "The features that have only one entry and are dropped are:\n",
      "['SHRCD', 'in_sp500', 'R', 'H', 'S', 'St. Tammany', 'Real Estate']\n"
     ]
    }
   ],
   "source": [
    "# considering only companies that are in the SP500\n",
    "data_SP500 = cleaned_data.copy()[cleaned_data['in_sp500'] == 1]\n",
    "\n",
    "# determine the number of different entries\n",
    "nr_of_unique_entries = [(feature, len(Counter(data_SP500[feature]))) \\\n",
    "                        for feature in data_SP500.columns.values.tolist()]\n",
    "\n",
    "# determine the features with only one value for both data frames\n",
    "features_w_only_one_entry = []\n",
    "for feature in nr_of_unique_entries:\n",
    "    if feature[1] == 1:\n",
    "        features_w_only_one_entry.append(feature[0])\n",
    "\n",
    "# print the features that contain only one value\n",
    "print('The features that have only one entry and are dropped are:\\n' + \\\n",
    "      str(features_w_only_one_entry))\n",
    "\n",
    "# drop those features since they do not contain any information that would be helpful\n",
    "data_SP500.drop(columns=features_w_only_one_entry, inplace=True)"
   ]
  },
  {
   "cell_type": "markdown",
   "metadata": {},
   "source": [
    "## 8.2 Separating Features & Responses and Testing & Training Data"
   ]
  },
  {
   "cell_type": "code",
   "execution_count": 55,
   "metadata": {},
   "outputs": [
    {
     "name": "stdout",
     "output_type": "stream",
     "text": [
      "The training set contains 80.0 % of the data.\n"
     ]
    }
   ],
   "source": [
    "# convert splticrm back to string on the s&p500 subset, since RF might not accept it\n",
    "data_SP500.splticrm = data_SP500.splticrm.astype('str')\n",
    "\n",
    "# separate features and responses into separate variables\n",
    "features, responses = data_SP500.drop(columns=['splticrm'], inplace=False), \\\n",
    "    data_SP500.splticrm.copy()\n",
    "\n",
    "# splitting taining and testing data\n",
    "features_train, features_test, responses_train, responses_test = \\\n",
    "    train_test_split(features, responses, test_size = 0.2, random_state = 0)\n",
    "\n",
    "# ensuring the splitting is in line with the chosen relative training data size\n",
    "training_size = features_train.shape[0] / (features_train.shape[0] + features_test.shape[0])\n",
    "print('The training set contains ' + str(round(100 * training_size, 1)) + ' % of the data.')"
   ]
  },
  {
   "cell_type": "code",
   "execution_count": 56,
   "metadata": {},
   "outputs": [],
   "source": [
    "# imports\n",
    "from sklearn.ensemble import RandomForestClassifier\n",
    "from sklearn.model_selection import train_test_split\n",
    "\n",
    "# creating a pipeline for random forests\n",
    "randomForest = RandomForestClassifier(random_state=0)\n",
    "\n",
    "# fitting the random forest grid\n",
    "_ = randomForest.fit(features_train, responses_train)"
   ]
  },
  {
   "cell_type": "markdown",
   "metadata": {},
   "source": [
    "## 8.3 Plotting the Feature Importances"
   ]
  },
  {
   "cell_type": "code",
   "execution_count": 57,
   "metadata": {},
   "outputs": [],
   "source": [
    "# get the feature names\n",
    "feature_names = features_train.columns\n",
    "\n",
    "# extract the feature importances of the best model\n",
    "best_feature_importances = randomForest.feature_importances_\n",
    "\n",
    "# create a dictionary with the feature names and importances\n",
    "feature_importances_dict = dict(zip(feature_names, best_feature_importances))\n",
    "\n",
    "# sort the dictionary descending\n",
    "feature_importances_sorted = sorted(feature_importances_dict.items(), \\\n",
    "                                         key=lambda x: x[1], reverse=True)"
   ]
  },
  {
   "cell_type": "code",
   "execution_count": 58,
   "metadata": {},
   "outputs": [
    {
     "data": {
      "image/png": "[encoded data removed]",
      "text/plain": [
       "<Figure size 2304x576 with 1 Axes>"
      ]
     },
     "metadata": {},
     "output_type": "display_data"
    }
   ],
   "source": [
    "# plot the feature importances\n",
    "_ = plt.figure(figsize=(32, 8));\n",
    "_ = plt.bar(list(zip(*feature_importances_sorted))[0], \\\n",
    "            list(zip(*feature_importances_sorted))[1]);\n",
    "_ = plt.title('Feature Importances', fontsize=20);\n",
    "_ = plt.xlabel('Feature Name', fontsize=14);\n",
    "_ = plt.ylabel('Feature Importance', fontsize=14);\n",
    "_ = plt.xticks(rotation=90)\n",
    "plt.show();"
   ]
  },
  {
   "cell_type": "code",
   "execution_count": 59,
   "metadata": {},
   "outputs": [
    {
     "data": {
      "image/png": "[encoded data removed]",
      "text/plain": [
       "<Figure size 1152x576 with 1 Axes>"
      ]
     },
     "metadata": {},
     "output_type": "display_data"
    }
   ],
   "source": [
    "# create plot for mean feature imporances until crease in importance reduction\n",
    "importance_threshold = 0.005\n",
    "features_counter = 0\n",
    "for importance in list(zip(*feature_importances_sorted))[1]:\n",
    "    if importance > importance_threshold:\n",
    "        features_counter += 1\n",
    "    else:\n",
    "        break\n",
    "\n",
    "_ = plt.figure(figsize=(16, 8));\n",
    "_ = plt.bar(list(zip(*feature_importances_sorted))[0][:features_counter], \\\n",
    "            list(zip(*feature_importances_sorted))[1][:features_counter]);\n",
    "_ = plt.title('Most Important Features', fontsize=20);\n",
    "_ = plt.xlabel('Feature Name', fontsize=14);\n",
    "_ = plt.ylabel('Feature Importance', fontsize=14);\n",
    "_ = plt.xticks(rotation=90)\n",
    "plt.show();"
   ]
  },
  {
   "cell_type": "markdown",
   "metadata": {},
   "source": [
    "## 8.4 Save a File containing the Best Features"
   ]
  },
  {
   "cell_type": "code",
   "execution_count": 60,
   "metadata": {},
   "outputs": [
    {
     "name": "stdout",
     "output_type": "stream",
     "text": [
      "The 66 best features were saved.\n"
     ]
    }
   ],
   "source": [
    "# copy data that has only the top features\n",
    "data_top_features = data_SP500.copy()\n",
    "data_top_features.drop(columns=list(list(zip(*feature_importances_sorted))\\\n",
    "                                      [0][features_counter:]), inplace=True)\n",
    "\n",
    "# save dataframe\n",
    "data_top_features.to_csv('data/data_top_features.csv')\n",
    "\n",
    "print('The ' + str(data_top_features.shape[1]) + ' best features were saved.')"
   ]
  }
 ],
 "metadata": {
  "kernelspec": {
   "display_name": "Python 3",
   "language": "python",
   "name": "python3"
  },
  "language_info": {
   "codemirror_mode": {
    "name": "ipython",
    "version": 3
   },
   "file_extension": ".py",
   "mimetype": "text/x-python",
   "name": "python",
   "nbconvert_exporter": "python",
   "pygments_lexer": "ipython3",
   "version": "3.7.0"
  },
  "toc": {
   "base_numbering": 1,
   "nav_menu": {},
   "number_sections": true,
   "sideBar": true,
   "skip_h1_title": false,
   "title_cell": "Table of Contents",
   "title_sidebar": "Contents",
   "toc_cell": false,
   "toc_position": {
    "height": "calc(100% - 180px)",
    "left": "10px",
    "top": "150px",
    "width": "329px"
   },
   "toc_section_display": true,
   "toc_window_display": true
  }
 },
 "nbformat": 4,
 "nbformat_minor": 4
}
